{
 "cells": [
  {
   "cell_type": "code",
   "execution_count": 20,
   "id": "87718e71",
   "metadata": {},
   "outputs": [],
   "source": [
    "import pandas_datareader as pdr\n",
    "import pandas as pd\n",
    "import numpy as np\n",
    "import matplotlib.pyplot as plt\n",
    "%matplotlib inline"
   ]
  },
  {
   "cell_type": "code",
   "execution_count": 5,
   "id": "bceb6acb",
   "metadata": {},
   "outputs": [],
   "source": [
    "df=pdr.get_data_tiingo('AAPL',api_key='10fb1f39df7f57005c5617fa53fa23f9f91c9d5a') #open tiingo.com and get the api key"
   ]
  },
  {
   "cell_type": "code",
   "execution_count": 6,
   "id": "bd18d968",
   "metadata": {},
   "outputs": [],
   "source": [
    "df.to_csv('AAPL.csv')"
   ]
  },
  {
   "cell_type": "code",
   "execution_count": 8,
   "id": "56e78c5e",
   "metadata": {},
   "outputs": [],
   "source": [
    "df=pd.read_csv('AAPL.csv')"
   ]
  },
  {
   "cell_type": "code",
   "execution_count": 9,
   "id": "a69fdac1",
   "metadata": {},
   "outputs": [
    {
     "data": {
      "text/html": [
       "<div>\n",
       "<style scoped>\n",
       "    .dataframe tbody tr th:only-of-type {\n",
       "        vertical-align: middle;\n",
       "    }\n",
       "\n",
       "    .dataframe tbody tr th {\n",
       "        vertical-align: top;\n",
       "    }\n",
       "\n",
       "    .dataframe thead th {\n",
       "        text-align: right;\n",
       "    }\n",
       "</style>\n",
       "<table border=\"1\" class=\"dataframe\">\n",
       "  <thead>\n",
       "    <tr style=\"text-align: right;\">\n",
       "      <th></th>\n",
       "      <th>symbol</th>\n",
       "      <th>date</th>\n",
       "      <th>close</th>\n",
       "      <th>high</th>\n",
       "      <th>low</th>\n",
       "      <th>open</th>\n",
       "      <th>volume</th>\n",
       "      <th>adjClose</th>\n",
       "      <th>adjHigh</th>\n",
       "      <th>adjLow</th>\n",
       "      <th>adjOpen</th>\n",
       "      <th>adjVolume</th>\n",
       "      <th>divCash</th>\n",
       "      <th>splitFactor</th>\n",
       "    </tr>\n",
       "  </thead>\n",
       "  <tbody>\n",
       "    <tr>\n",
       "      <th>0</th>\n",
       "      <td>AAPL</td>\n",
       "      <td>2016-11-25 00:00:00+00:00</td>\n",
       "      <td>111.79</td>\n",
       "      <td>111.870</td>\n",
       "      <td>110.95</td>\n",
       "      <td>111.130</td>\n",
       "      <td>11475922</td>\n",
       "      <td>26.303315</td>\n",
       "      <td>26.322138</td>\n",
       "      <td>26.105669</td>\n",
       "      <td>26.148022</td>\n",
       "      <td>45903688</td>\n",
       "      <td>0.0</td>\n",
       "      <td>1.0</td>\n",
       "    </tr>\n",
       "    <tr>\n",
       "      <th>1</th>\n",
       "      <td>AAPL</td>\n",
       "      <td>2016-11-28 00:00:00+00:00</td>\n",
       "      <td>111.57</td>\n",
       "      <td>112.465</td>\n",
       "      <td>111.39</td>\n",
       "      <td>111.430</td>\n",
       "      <td>27193983</td>\n",
       "      <td>26.251550</td>\n",
       "      <td>26.462137</td>\n",
       "      <td>26.209198</td>\n",
       "      <td>26.218609</td>\n",
       "      <td>108775932</td>\n",
       "      <td>0.0</td>\n",
       "      <td>1.0</td>\n",
       "    </tr>\n",
       "    <tr>\n",
       "      <th>2</th>\n",
       "      <td>AAPL</td>\n",
       "      <td>2016-11-29 00:00:00+00:00</td>\n",
       "      <td>111.46</td>\n",
       "      <td>112.030</td>\n",
       "      <td>110.07</td>\n",
       "      <td>110.780</td>\n",
       "      <td>28528750</td>\n",
       "      <td>26.225668</td>\n",
       "      <td>26.359785</td>\n",
       "      <td>25.898612</td>\n",
       "      <td>26.065670</td>\n",
       "      <td>114115000</td>\n",
       "      <td>0.0</td>\n",
       "      <td>1.0</td>\n",
       "    </tr>\n",
       "    <tr>\n",
       "      <th>3</th>\n",
       "      <td>AAPL</td>\n",
       "      <td>2016-11-30 00:00:00+00:00</td>\n",
       "      <td>110.52</td>\n",
       "      <td>112.200</td>\n",
       "      <td>110.27</td>\n",
       "      <td>111.560</td>\n",
       "      <td>36162258</td>\n",
       "      <td>26.004494</td>\n",
       "      <td>26.399784</td>\n",
       "      <td>25.945671</td>\n",
       "      <td>26.249197</td>\n",
       "      <td>144649032</td>\n",
       "      <td>0.0</td>\n",
       "      <td>1.0</td>\n",
       "    </tr>\n",
       "    <tr>\n",
       "      <th>4</th>\n",
       "      <td>AAPL</td>\n",
       "      <td>2016-12-01 00:00:00+00:00</td>\n",
       "      <td>109.49</td>\n",
       "      <td>110.940</td>\n",
       "      <td>109.03</td>\n",
       "      <td>110.365</td>\n",
       "      <td>37086862</td>\n",
       "      <td>25.762143</td>\n",
       "      <td>26.103316</td>\n",
       "      <td>25.653908</td>\n",
       "      <td>25.968023</td>\n",
       "      <td>148347448</td>\n",
       "      <td>0.0</td>\n",
       "      <td>1.0</td>\n",
       "    </tr>\n",
       "  </tbody>\n",
       "</table>\n",
       "</div>"
      ],
      "text/plain": [
       "  symbol                       date   close     high     low     open  \\\n",
       "0   AAPL  2016-11-25 00:00:00+00:00  111.79  111.870  110.95  111.130   \n",
       "1   AAPL  2016-11-28 00:00:00+00:00  111.57  112.465  111.39  111.430   \n",
       "2   AAPL  2016-11-29 00:00:00+00:00  111.46  112.030  110.07  110.780   \n",
       "3   AAPL  2016-11-30 00:00:00+00:00  110.52  112.200  110.27  111.560   \n",
       "4   AAPL  2016-12-01 00:00:00+00:00  109.49  110.940  109.03  110.365   \n",
       "\n",
       "     volume   adjClose    adjHigh     adjLow    adjOpen  adjVolume  divCash  \\\n",
       "0  11475922  26.303315  26.322138  26.105669  26.148022   45903688      0.0   \n",
       "1  27193983  26.251550  26.462137  26.209198  26.218609  108775932      0.0   \n",
       "2  28528750  26.225668  26.359785  25.898612  26.065670  114115000      0.0   \n",
       "3  36162258  26.004494  26.399784  25.945671  26.249197  144649032      0.0   \n",
       "4  37086862  25.762143  26.103316  25.653908  25.968023  148347448      0.0   \n",
       "\n",
       "   splitFactor  \n",
       "0          1.0  \n",
       "1          1.0  \n",
       "2          1.0  \n",
       "3          1.0  \n",
       "4          1.0  "
      ]
     },
     "execution_count": 9,
     "metadata": {},
     "output_type": "execute_result"
    }
   ],
   "source": [
    "df.head()"
   ]
  },
  {
   "cell_type": "code",
   "execution_count": 10,
   "id": "81dd5676",
   "metadata": {},
   "outputs": [
    {
     "data": {
      "text/html": [
       "<div>\n",
       "<style scoped>\n",
       "    .dataframe tbody tr th:only-of-type {\n",
       "        vertical-align: middle;\n",
       "    }\n",
       "\n",
       "    .dataframe tbody tr th {\n",
       "        vertical-align: top;\n",
       "    }\n",
       "\n",
       "    .dataframe thead th {\n",
       "        text-align: right;\n",
       "    }\n",
       "</style>\n",
       "<table border=\"1\" class=\"dataframe\">\n",
       "  <thead>\n",
       "    <tr style=\"text-align: right;\">\n",
       "      <th></th>\n",
       "      <th>symbol</th>\n",
       "      <th>date</th>\n",
       "      <th>close</th>\n",
       "      <th>high</th>\n",
       "      <th>low</th>\n",
       "      <th>open</th>\n",
       "      <th>volume</th>\n",
       "      <th>adjClose</th>\n",
       "      <th>adjHigh</th>\n",
       "      <th>adjLow</th>\n",
       "      <th>adjOpen</th>\n",
       "      <th>adjVolume</th>\n",
       "      <th>divCash</th>\n",
       "      <th>splitFactor</th>\n",
       "    </tr>\n",
       "  </thead>\n",
       "  <tbody>\n",
       "    <tr>\n",
       "      <th>1252</th>\n",
       "      <td>AAPL</td>\n",
       "      <td>2021-11-16 00:00:00+00:00</td>\n",
       "      <td>151.00</td>\n",
       "      <td>151.488</td>\n",
       "      <td>149.3400</td>\n",
       "      <td>149.940</td>\n",
       "      <td>59256210</td>\n",
       "      <td>151.00</td>\n",
       "      <td>151.488</td>\n",
       "      <td>149.3400</td>\n",
       "      <td>149.940</td>\n",
       "      <td>59256210</td>\n",
       "      <td>0.0</td>\n",
       "      <td>1.0</td>\n",
       "    </tr>\n",
       "    <tr>\n",
       "      <th>1253</th>\n",
       "      <td>AAPL</td>\n",
       "      <td>2021-11-17 00:00:00+00:00</td>\n",
       "      <td>153.49</td>\n",
       "      <td>155.000</td>\n",
       "      <td>150.9900</td>\n",
       "      <td>150.995</td>\n",
       "      <td>88807000</td>\n",
       "      <td>153.49</td>\n",
       "      <td>155.000</td>\n",
       "      <td>150.9900</td>\n",
       "      <td>150.995</td>\n",
       "      <td>88807000</td>\n",
       "      <td>0.0</td>\n",
       "      <td>1.0</td>\n",
       "    </tr>\n",
       "    <tr>\n",
       "      <th>1254</th>\n",
       "      <td>AAPL</td>\n",
       "      <td>2021-11-18 00:00:00+00:00</td>\n",
       "      <td>157.87</td>\n",
       "      <td>158.670</td>\n",
       "      <td>153.0500</td>\n",
       "      <td>153.710</td>\n",
       "      <td>137827673</td>\n",
       "      <td>157.87</td>\n",
       "      <td>158.670</td>\n",
       "      <td>153.0500</td>\n",
       "      <td>153.710</td>\n",
       "      <td>137827673</td>\n",
       "      <td>0.0</td>\n",
       "      <td>1.0</td>\n",
       "    </tr>\n",
       "    <tr>\n",
       "      <th>1255</th>\n",
       "      <td>AAPL</td>\n",
       "      <td>2021-11-19 00:00:00+00:00</td>\n",
       "      <td>160.55</td>\n",
       "      <td>161.020</td>\n",
       "      <td>156.5328</td>\n",
       "      <td>157.650</td>\n",
       "      <td>117305597</td>\n",
       "      <td>160.55</td>\n",
       "      <td>161.020</td>\n",
       "      <td>156.5328</td>\n",
       "      <td>157.650</td>\n",
       "      <td>117305597</td>\n",
       "      <td>0.0</td>\n",
       "      <td>1.0</td>\n",
       "    </tr>\n",
       "    <tr>\n",
       "      <th>1256</th>\n",
       "      <td>AAPL</td>\n",
       "      <td>2021-11-22 00:00:00+00:00</td>\n",
       "      <td>161.02</td>\n",
       "      <td>165.700</td>\n",
       "      <td>161.0000</td>\n",
       "      <td>161.680</td>\n",
       "      <td>116197266</td>\n",
       "      <td>161.02</td>\n",
       "      <td>165.700</td>\n",
       "      <td>161.0000</td>\n",
       "      <td>161.680</td>\n",
       "      <td>116197266</td>\n",
       "      <td>0.0</td>\n",
       "      <td>1.0</td>\n",
       "    </tr>\n",
       "  </tbody>\n",
       "</table>\n",
       "</div>"
      ],
      "text/plain": [
       "     symbol                       date   close     high       low     open  \\\n",
       "1252   AAPL  2021-11-16 00:00:00+00:00  151.00  151.488  149.3400  149.940   \n",
       "1253   AAPL  2021-11-17 00:00:00+00:00  153.49  155.000  150.9900  150.995   \n",
       "1254   AAPL  2021-11-18 00:00:00+00:00  157.87  158.670  153.0500  153.710   \n",
       "1255   AAPL  2021-11-19 00:00:00+00:00  160.55  161.020  156.5328  157.650   \n",
       "1256   AAPL  2021-11-22 00:00:00+00:00  161.02  165.700  161.0000  161.680   \n",
       "\n",
       "         volume  adjClose  adjHigh    adjLow  adjOpen  adjVolume  divCash  \\\n",
       "1252   59256210    151.00  151.488  149.3400  149.940   59256210      0.0   \n",
       "1253   88807000    153.49  155.000  150.9900  150.995   88807000      0.0   \n",
       "1254  137827673    157.87  158.670  153.0500  153.710  137827673      0.0   \n",
       "1255  117305597    160.55  161.020  156.5328  157.650  117305597      0.0   \n",
       "1256  116197266    161.02  165.700  161.0000  161.680  116197266      0.0   \n",
       "\n",
       "      splitFactor  \n",
       "1252          1.0  \n",
       "1253          1.0  \n",
       "1254          1.0  \n",
       "1255          1.0  \n",
       "1256          1.0  "
      ]
     },
     "execution_count": 10,
     "metadata": {},
     "output_type": "execute_result"
    }
   ],
   "source": [
    "df.tail()"
   ]
  },
  {
   "cell_type": "code",
   "execution_count": 12,
   "id": "0e8d3a29",
   "metadata": {},
   "outputs": [],
   "source": [
    "df1=df.reset_index()['close']"
   ]
  },
  {
   "cell_type": "code",
   "execution_count": 13,
   "id": "2d67e29d",
   "metadata": {},
   "outputs": [
    {
     "data": {
      "text/plain": [
       "(1257,)"
      ]
     },
     "execution_count": 13,
     "metadata": {},
     "output_type": "execute_result"
    }
   ],
   "source": [
    "df1.shape"
   ]
  },
  {
   "cell_type": "code",
   "execution_count": 14,
   "id": "a0073221",
   "metadata": {},
   "outputs": [
    {
     "data": {
      "text/plain": [
       "0    111.79\n",
       "1    111.57\n",
       "2    111.46\n",
       "3    110.52\n",
       "4    109.49\n",
       "Name: close, dtype: float64"
      ]
     },
     "execution_count": 14,
     "metadata": {},
     "output_type": "execute_result"
    }
   ],
   "source": [
    "df1[:5]"
   ]
  },
  {
   "cell_type": "code",
   "execution_count": 19,
   "id": "a6cea19e",
   "metadata": {},
   "outputs": [
    {
     "data": {
      "text/plain": [
       "[<matplotlib.lines.Line2D at 0x1da4a3fe550>]"
      ]
     },
     "execution_count": 19,
     "metadata": {},
     "output_type": "execute_result"
    },
    {
     "data": {
      "image/png": "[encoded data removed]",
      "text/plain": [
       "<Figure size 432x288 with 1 Axes>"
      ]
     },
     "metadata": {
      "needs_background": "light"
     },
     "output_type": "display_data"
    }
   ],
   "source": [
    "plt.plot(df1)"
   ]
  },
  {
   "cell_type": "code",
   "execution_count": 22,
   "id": "6540b424",
   "metadata": {},
   "outputs": [],
   "source": [
    "from sklearn.preprocessing import MinMaxScaler\n",
    "scaler=MinMaxScaler(feature_range=(0,1))\n",
    "df1=scaler.fit_transform(np.array(df1).reshape(-1,1))"
   ]
  },
  {
   "cell_type": "code",
   "execution_count": 23,
   "id": "03b861ad",
   "metadata": {},
   "outputs": [
    {
     "data": {
      "text/plain": [
       "array([[0.01239825],\n",
       "       [0.01184721],\n",
       "       [0.0115717 ],\n",
       "       [0.00921728],\n",
       "       [0.00663745]])"
      ]
     },
     "execution_count": 23,
     "metadata": {},
     "output_type": "execute_result"
    }
   ],
   "source": [
    "df1[:5]"
   ]
  },
  {
   "cell_type": "code",
   "execution_count": 24,
   "id": "a2c10450",
   "metadata": {},
   "outputs": [
    {
     "data": {
      "text/plain": [
       "(1257, 1)"
      ]
     },
     "execution_count": 24,
     "metadata": {},
     "output_type": "execute_result"
    }
   ],
   "source": [
    "df1.shape"
   ]
  },
  {
   "cell_type": "code",
   "execution_count": 25,
   "id": "53bd8cc5",
   "metadata": {},
   "outputs": [
    {
     "data": {
      "text/plain": [
       "1257"
      ]
     },
     "execution_count": 25,
     "metadata": {},
     "output_type": "execute_result"
    }
   ],
   "source": [
    "len(df1)"
   ]
  },
  {
   "cell_type": "code",
   "execution_count": 27,
   "id": "a838610b",
   "metadata": {},
   "outputs": [],
   "source": [
    "training_size=int(len(df1)*0.65)\n",
    "test_size=len(df1)-training_size"
   ]
  },
  {
   "cell_type": "code",
   "execution_count": 28,
   "id": "7e8b0f74",
   "metadata": {},
   "outputs": [
    {
     "name": "stdout",
     "output_type": "stream",
     "text": [
      "817 440\n"
     ]
    }
   ],
   "source": [
    "print(training_size,test_size)"
   ]
  },
  {
   "cell_type": "code",
   "execution_count": 50,
   "id": "005d90bd",
   "metadata": {},
   "outputs": [],
   "source": [
    "training_data=df1[0:training_size,:]"
   ]
  },
  {
   "cell_type": "code",
   "execution_count": 51,
   "id": "9d0926f4",
   "metadata": {},
   "outputs": [
    {
     "data": {
      "text/plain": [
       "(817, 1)"
      ]
     },
     "execution_count": 51,
     "metadata": {},
     "output_type": "execute_result"
    }
   ],
   "source": [
    "training_data.shape"
   ]
  },
  {
   "cell_type": "code",
   "execution_count": 53,
   "id": "dc36bfd8",
   "metadata": {},
   "outputs": [],
   "source": [
    "test_data=df1[training_size:len(df1),:1]"
   ]
  },
  {
   "cell_type": "code",
   "execution_count": 54,
   "id": "566d8377",
   "metadata": {},
   "outputs": [
    {
     "data": {
      "text/plain": [
       "(440, 1)"
      ]
     },
     "execution_count": 54,
     "metadata": {},
     "output_type": "execute_result"
    }
   ],
   "source": [
    "test_data.shape"
   ]
  },
  {
   "cell_type": "code",
   "execution_count": 55,
   "id": "d1b58464",
   "metadata": {},
   "outputs": [],
   "source": [
    "def create_dataset(data,time_step=1):\n",
    "    dataX=[]\n",
    "    dataY=[]\n",
    "    for i in range(len(data)-time_step-1):\n",
    "        X=data[i:(i+time_step),0]\n",
    "        dataX.append(X)\n",
    "        dataY.append(data[i+time_step,0])\n",
    "    return np.array(dataX),np.array(dataY)"
   ]
  },
  {
   "cell_type": "code",
   "execution_count": 56,
   "id": "6821a6e0",
   "metadata": {},
   "outputs": [],
   "source": [
    "time_step=100\n",
    "X_train,Y_train=create_dataset(training_data,time_step)\n",
    "X_test,Y_test=create_dataset(test_data,time_step)"
   ]
  },
  {
   "cell_type": "code",
   "execution_count": 57,
   "id": "66f3c861",
   "metadata": {},
   "outputs": [
    {
     "name": "stdout",
     "output_type": "stream",
     "text": [
      "[[0.01239825 0.01184721 0.0115717  ... 0.08606137 0.08475892 0.08916719]\n",
      " [0.01184721 0.0115717  0.00921728 ... 0.08475892 0.08916719 0.08874139]\n",
      " [0.0115717  0.00921728 0.00663745 ... 0.08916719 0.08874139 0.09217282]\n",
      " ...\n",
      " [0.28047589 0.29337508 0.29492799 ... 0.53139637 0.54296807 0.53465247]\n",
      " [0.29337508 0.29492799 0.28082655 ... 0.54296807 0.53465247 0.51649343]\n",
      " [0.29492799 0.28082655 0.28548528 ... 0.53465247 0.51649343 0.47924859]]\n"
     ]
    }
   ],
   "source": [
    "print(X_train)"
   ]
  },
  {
   "cell_type": "code",
   "execution_count": 93,
   "id": "672d64d7",
   "metadata": {},
   "outputs": [
    {
     "data": {
      "text/plain": [
       "(716, 100, 1)"
      ]
     },
     "execution_count": 93,
     "metadata": {},
     "output_type": "execute_result"
    }
   ],
   "source": [
    "X_train.shape"
   ]
  },
  {
   "cell_type": "code",
   "execution_count": 58,
   "id": "152a5281",
   "metadata": {},
   "outputs": [
    {
     "data": {
      "text/plain": [
       "array([0.08874139, 0.09217282, 0.094402  , 0.09227301, 0.09254853,\n",
       "       0.09219787, 0.09953663, 0.101866  , 0.10073889, 0.0994114 ,\n",
       "       0.10549781, 0.11564183, 0.11809643, 0.116268  , 0.11799624,\n",
       "       0.12338134, 0.12237946, 0.12180338, 0.10872887, 0.11446462,\n",
       "       0.11576706, 0.11809643, 0.11762054, 0.11646838, 0.11779587,\n",
       "       0.11714465, 0.11729493, 0.11501565, 0.11606763, 0.12175329,\n",
       "       0.11794615, 0.11924859, 0.12155291, 0.12060113, 0.1055479 ,\n",
       "       0.09663118, 0.09956168, 0.09597996, 0.09380088, 0.08874139,\n",
       "       0.0989355 , 0.09560426, 0.0977583 , 0.09715717, 0.09878522,\n",
       "       0.09763306, 0.09239825, 0.09765811, 0.09227301, 0.09312461,\n",
       "       0.09182217, 0.09329994, 0.08989355, 0.09352536, 0.09572949,\n",
       "       0.0969067 , 0.09743269, 0.10251722, 0.10569818, 0.10700063,\n",
       "       0.10830307, 0.11065748, 0.10895429, 0.10877896, 0.11333751,\n",
       "       0.11496556, 0.11676894, 0.10950532, 0.10685034, 0.10492173,\n",
       "       0.10822793, 0.12598622, 0.12205385, 0.1241077 , 0.13016907,\n",
       "       0.13335003, 0.13580463, 0.12142768, 0.12683782, 0.13277395,\n",
       "       0.13715717, 0.13552912, 0.12778961, 0.12688791, 0.12616155,\n",
       "       0.13259862, 0.13309956, 0.13132123, 0.132799  , 0.13683156,\n",
       "       0.14043832, 0.14154039, 0.14316844, 0.14329368, 0.13835942,\n",
       "       0.13793363, 0.13630557, 0.12971822, 0.1369067 , 0.13530369,\n",
       "       0.13227301, 0.12884158, 0.13284909, 0.12981841, 0.12996869,\n",
       "       0.1233062 , 0.11659361, 0.11283657, 0.10948028, 0.11596744,\n",
       "       0.11869756, 0.1163181 , 0.11842204, 0.11764559, 0.11932373,\n",
       "       0.11681904, 0.12160301, 0.12137758, 0.12273012, 0.1228804 ,\n",
       "       0.12450845, 0.12313087, 0.12561052, 0.13284909, 0.13432686,\n",
       "       0.13254853, 0.12308078, 0.12375704, 0.12355667, 0.12588604,\n",
       "       0.1241578 , 0.12666249, 0.14078898, 0.14998121, 0.15579211,\n",
       "       0.15040701, 0.15346274, 0.16445836, 0.16884158, 0.17024421,\n",
       "       0.17382592, 0.17292423, 0.16989355, 0.16814026, 0.16155291,\n",
       "       0.1558923 , 0.16095178, 0.15857232, 0.15814652, 0.16606137,\n",
       "       0.17061991, 0.17064496, 0.16844083, 0.16588604, 0.15689418,\n",
       "       0.16283031, 0.16082655, 0.15769568, 0.15729493, 0.15571697,\n",
       "       0.15649343, 0.15661866, 0.16488416, 0.1624546 , 0.16388228,\n",
       "       0.16375704, 0.16814026, 0.17427677, 0.16956794, 0.16909205,\n",
       "       0.17074515, 0.17074515, 0.1596243 , 0.15969944, 0.16090169,\n",
       "       0.156268  , 0.16385723, 0.16378209, 0.16578585, 0.1707201 ,\n",
       "       0.16909205, 0.16904195, 0.16894177, 0.17142142, 0.17595492,\n",
       "       0.17370069, 0.18098936, 0.18139011, 0.17938635, 0.17572949,\n",
       "       0.17582968, 0.16876644, 0.16097683, 0.16197871, 0.15308704,\n",
       "       0.15060739, 0.15175955, 0.15263619, 0.134402  , 0.12435817,\n",
       "       0.14073889, 0.1319975 , 0.12100188, 0.1241578 , 0.13993738,\n",
       "       0.14402004, 0.15160927, 0.16568566, 0.16428303, 0.16283031,\n",
       "       0.16087664, 0.16445836, 0.17197245, 0.18066374, 0.17921102,\n",
       "       0.17853475, 0.1707201 , 0.17375078, 0.17527865, 0.17490294,\n",
       "       0.17079524, 0.17557921, 0.18319349, 0.18755166, 0.18316844,\n",
       "       0.17933626, 0.17986224, 0.17828428, 0.17147151, 0.17132123,\n",
       "       0.16137758, 0.15531622, 0.14552286, 0.16513463, 0.15403882,\n",
       "       0.14938009, 0.15263619, 0.14988103, 0.15416406, 0.16222918,\n",
       "       0.16520977, 0.15413901, 0.15832185, 0.16633688, 0.16430808,\n",
       "       0.16856606, 0.17004383, 0.17277395, 0.17883532, 0.17783344,\n",
       "       0.16520977, 0.14747652, 0.14627426, 0.14051346, 0.1422918 ,\n",
       "       0.14371947, 0.13896055, 0.14632436, 0.15594239, 0.17465247,\n",
       "       0.17545398, 0.19283657, 0.19616781, 0.19839699, 0.20167815,\n",
       "       0.20839073, 0.20475892, 0.20365686, 0.19937383, 0.203732  ,\n",
       "       0.20075141, 0.19904822, 0.20235441, 0.20117721, 0.20418284,\n",
       "       0.20365686, 0.20473388, 0.20303068, 0.2020288 , 0.20045085,\n",
       "       0.20889167, 0.21287414, 0.21658109, 0.21825924, 0.21695679,\n",
       "       0.21254853, 0.21137132, 0.21400125, 0.21004383, 0.2102943 ,\n",
       "       0.2053851 , 0.20513463, 0.1974953 , 0.19952411, 0.19691922,\n",
       "       0.19556669, 0.18867877, 0.19433939, 0.19366312, 0.19701941,\n",
       "       0.19604258, 0.2012273 , 0.19306199, 0.19676894, 0.20320601,\n",
       "       0.20974327, 0.20916719, 0.20298059, 0.21087038, 0.21162179,\n",
       "       0.21056982, 0.21192235, 0.20929242, 0.21299937, 0.21189731,\n",
       "       0.21232311, 0.21580463, 0.22036318, 0.21883532, 0.21074515,\n",
       "       0.20806512, 0.20901691, 0.23709455, 0.25184721, 0.25335003,\n",
       "       0.2560551 , 0.2511459 , 0.25149656, 0.25557921, 0.25219787,\n",
       "       0.25555416, 0.2577583 , 0.2589856 , 0.26670006, 0.27737007,\n",
       "       0.27206011, 0.27100814, 0.27103319, 0.27213525, 0.2738134 ,\n",
       "       0.27827176, 0.28268003, 0.29089543, 0.29603006, 0.30254227,\n",
       "       0.3043707 , 0.3006387 , 0.29119599, 0.28668754, 0.27924859,\n",
       "       0.29307451, 0.28611146, 0.29948654, 0.29304947, 0.27812148,\n",
       "       0.27902317, 0.27934878, 0.28350657, 0.27757044, 0.28541014,\n",
       "       0.28891672, 0.28448341, 0.29582968, 0.29780839, 0.30161553,\n",
       "       0.30667502, 0.31366312, 0.30344396, 0.29417658, 0.29287414,\n",
       "       0.3006387 , 0.27431434, 0.26953037, 0.28871634, 0.27681904,\n",
       "       0.28881653, 0.28641202, 0.27346274, 0.28170319, 0.28505949,\n",
       "       0.29026925, 0.27113338, 0.28293049, 0.27416406, 0.26399499,\n",
       "       0.26664997, 0.28057608, 0.28899186, 0.25207264, 0.23731997,\n",
       "       0.24278021, 0.25825924, 0.25460238, 0.2445335 , 0.21873513,\n",
       "       0.21387602, 0.20027552, 0.21182217, 0.21713212, 0.1979211 ,\n",
       "       0.1756794 , 0.17517846, 0.16393237, 0.16976832, 0.16881653,\n",
       "       0.185598  , 0.18211647, 0.17968691, 0.19531622, 0.17495304,\n",
       "       0.17001879, 0.15441453, 0.15719474, 0.15476518, 0.15594239,\n",
       "       0.16057608, 0.14687539, 0.14301816, 0.14835316, 0.13537884,\n",
       "       0.12520977, 0.10993112, 0.10016281, 0.12606137, 0.12350657,\n",
       "       0.12370695, 0.12748904, 0.12793989, 0.08854101, 0.10374452,\n",
       "       0.10291797, 0.10998121, 0.11639324, 0.11762054, 0.11383845,\n",
       "       0.10810269, 0.11579211, 0.12047589, 0.12278021, 0.12518472,\n",
       "       0.11636819, 0.1179211 , 0.11486537, 0.12753914, 0.12388228,\n",
       "       0.11982467, 0.14629931, 0.1492799 , 0.14948028, 0.16132749,\n",
       "       0.16866625, 0.16881653, 0.16055103, 0.15922354, 0.15676894,\n",
       "       0.1604258 , 0.15864746, 0.16020038, 0.15924859, 0.16052599,\n",
       "       0.16328115, 0.1608516 , 0.16563557, 0.16879148, 0.16904195,\n",
       "       0.17039449, 0.16608641, 0.17064496, 0.17284909, 0.17204759,\n",
       "       0.16951785, 0.16445836, 0.16548528, 0.18048842, 0.18552286,\n",
       "       0.18752661, 0.1925861 , 0.19857232, 0.20333125, 0.19959925,\n",
       "       0.2036819 , 0.22103945, 0.21092048, 0.20513463, 0.20025047,\n",
       "       0.20445836, 0.20508453, 0.20816531, 0.21139637, 0.21835942,\n",
       "       0.22169067, 0.22254227, 0.22582342, 0.23358798, 0.23208516,\n",
       "       0.23489042, 0.23070758, 0.2305072 , 0.23140889, 0.23145899,\n",
       "       0.24117721, 0.24300564, 0.24468378, 0.25207264, 0.25127113,\n",
       "       0.2465623 , 0.2441077 , 0.24488416, 0.23501565, 0.25968691,\n",
       "       0.25625548, 0.26276769, 0.25457733, 0.24050094, 0.24060113,\n",
       "       0.23514089, 0.22627426, 0.19757044, 0.20493425, 0.21059487,\n",
       "       0.20849092, 0.20578585, 0.19098309, 0.19977458, 0.19020664,\n",
       "       0.18239198, 0.18066374, 0.17881027, 0.17668128, 0.1789856 ,\n",
       "       0.17089543, 0.16646212, 0.18234189, 0.18960551, 0.1963181 ,\n",
       "       0.20866625, 0.21475266, 0.22033813, 0.21878522, 0.21868503,\n",
       "       0.21515341, 0.21803381, 0.22945523, 0.2280025 , 0.23198497,\n",
       "       0.23028178, 0.22978084, 0.2222417 , 0.23283657, 0.23268629,\n",
       "       0.22812774, 0.23721979, 0.24017533, 0.24438322, 0.24393237,\n",
       "       0.2333876 , 0.23644333, 0.24142768, 0.23772073, 0.24160301,\n",
       "       0.24638698, 0.24460864, 0.24172824, 0.24751409, 0.23982467,\n",
       "       0.25142142, 0.25547902, 0.25505322, 0.25092048, 0.25272386,\n",
       "       0.25758297, 0.25532874, 0.26599875, 0.2544521 , 0.24340639,\n",
       "       0.21665623, 0.22582342, 0.230933  , 0.24192862, 0.23581716,\n",
       "       0.23453976, 0.25580463, 0.24022542, 0.23769568, 0.24961803,\n",
       "       0.25926111, 0.25928616, 0.26499687, 0.26454602, 0.23994991,\n",
       "       0.24959299, 0.24375704, 0.24718848, 0.25590482, 0.25522855,\n",
       "       0.24761428, 0.25635567, 0.26659987, 0.26654978, 0.26882905,\n",
       "       0.27516594, 0.29242329, 0.29117095, 0.28030056, 0.28318096,\n",
       "       0.28518472, 0.29036944, 0.28583594, 0.27774577, 0.28022542,\n",
       "       0.27762054, 0.28601127, 0.28315592, 0.28047589, 0.29337508,\n",
       "       0.29492799, 0.28082655, 0.28548528, 0.30098936, 0.30111459,\n",
       "       0.2944521 , 0.30103945, 0.30870382, 0.32403256, 0.32318096,\n",
       "       0.32180338, 0.31942392, 0.32170319, 0.3245335 , 0.33480276,\n",
       "       0.33342517, 0.34149029, 0.34249217, 0.35000626, 0.35619286,\n",
       "       0.34176581, 0.34169067, 0.3554665 , 0.37314966, 0.37735755,\n",
       "       0.37643081, 0.37670632, 0.38219161, 0.38396994, 0.38912962,\n",
       "       0.38852849, 0.39481528, 0.39023168, 0.39804634, 0.40140263,\n",
       "       0.39937383, 0.39160927, 0.38865373, 0.38807765, 0.3995742 ,\n",
       "       0.39436443, 0.40325611, 0.40177833, 0.39403882, 0.3822417 ,\n",
       "       0.38797746, 0.39759549, 0.41044458, 0.40095178, 0.40485911,\n",
       "       0.41059487, 0.41232311, 0.42156544, 0.43336255, 0.43474014,\n",
       "       0.43306199, 0.43376331, 0.43231058, 0.443732  , 0.44440827,\n",
       "       0.45853475, 0.45825924, 0.46256731, 0.46790232, 0.48468378,\n",
       "       0.47737007, 0.4833062 , 0.47977458, 0.49179712, 0.50792736,\n",
       "       0.50968065, 0.52628679, 0.51556669, 0.51221039, 0.52197871,\n",
       "       0.5307201 , 0.52530996, 0.52814026, 0.53197245, 0.52966813,\n",
       "       0.50622417, 0.52811522, 0.54477145, 0.54359424, 0.5076268 ,\n",
       "       0.50549781, 0.53102066, 0.53753287, 0.54695053, 0.53397621,\n",
       "       0.53778334, 0.53292423, 0.55193488, 0.54609894, 0.54629931,\n",
       "       0.53139637, 0.54296807, 0.53465247, 0.51649343, 0.47924859,\n",
       "       0.45395116])"
      ]
     },
     "execution_count": 58,
     "metadata": {},
     "output_type": "execute_result"
    }
   ],
   "source": [
    "Y_train"
   ]
  },
  {
   "cell_type": "code",
   "execution_count": 59,
   "id": "a655b925",
   "metadata": {},
   "outputs": [
    {
     "data": {
      "text/plain": [
       "(339, 100)"
      ]
     },
     "execution_count": 59,
     "metadata": {},
     "output_type": "execute_result"
    }
   ],
   "source": [
    "X_test.shape"
   ]
  },
  {
   "cell_type": "code",
   "execution_count": 60,
   "id": "7d65ff73",
   "metadata": {},
   "outputs": [
    {
     "data": {
      "text/plain": [
       "(339,)"
      ]
     },
     "execution_count": 60,
     "metadata": {},
     "output_type": "execute_result"
    }
   ],
   "source": [
    "Y_test.shape"
   ]
  },
  {
   "cell_type": "code",
   "execution_count": 61,
   "id": "8f89220a",
   "metadata": {},
   "outputs": [],
   "source": [
    "# reshape input to be [samples, time steps, features] which is required for LSTM\n",
    "X_train=X_train.reshape(X_train.shape[0],X_train.shape[1],1)\n",
    "X_test=X_test.reshape(X_test.shape[0],X_test.shape[1],1)"
   ]
  },
  {
   "cell_type": "code",
   "execution_count": 63,
   "id": "446888df",
   "metadata": {},
   "outputs": [],
   "source": [
    "import tensorflow as tf\n",
    "from tensorflow import keras"
   ]
  },
  {
   "cell_type": "code",
   "execution_count": 64,
   "id": "82353670",
   "metadata": {},
   "outputs": [],
   "source": [
    "from tensorflow.keras.models import Sequential\n",
    "from tensorflow.keras.layers import Dense,LSTM"
   ]
  },
  {
   "cell_type": "code",
   "execution_count": 67,
   "id": "521d3930",
   "metadata": {},
   "outputs": [],
   "source": [
    "model=Sequential()\n",
    "model.add(LSTM(50,return_sequences=True,input_shape=(100,1)))\n",
    "model.add(LSTM(50,return_sequences=True))\n",
    "model.add(LSTM(50))\n",
    "model.add(Dense(1)) #Output layer\n",
    "model.compile(loss='mean_squared_error',optimizer='adam')"
   ]
  },
  {
   "cell_type": "code",
   "execution_count": 68,
   "id": "b726b6f5",
   "metadata": {},
   "outputs": [
    {
     "name": "stdout",
     "output_type": "stream",
     "text": [
      "Model: \"sequential_2\"\n",
      "_________________________________________________________________\n",
      "Layer (type)                 Output Shape              Param #   \n",
      "=================================================================\n",
      "lstm_1 (LSTM)                (None, 100, 50)           10400     \n",
      "_________________________________________________________________\n",
      "lstm_2 (LSTM)                (None, 100, 50)           20200     \n",
      "_________________________________________________________________\n",
      "lstm_3 (LSTM)                (None, 50)                20200     \n",
      "_________________________________________________________________\n",
      "dense (Dense)                (None, 1)                 51        \n",
      "=================================================================\n",
      "Total params: 50,851\n",
      "Trainable params: 50,851\n",
      "Non-trainable params: 0\n",
      "_________________________________________________________________\n"
     ]
    }
   ],
   "source": [
    "model.summary()"
   ]
  },
  {
   "cell_type": "code",
   "execution_count": 69,
   "id": "5180e801",
   "metadata": {},
   "outputs": [
    {
     "name": "stdout",
     "output_type": "stream",
     "text": [
      "Epoch 1/100\n",
      "12/12 [==============================] - 4s 349ms/step - loss: 0.0201 - val_loss: 0.0239\n",
      "Epoch 2/100\n",
      "12/12 [==============================] - 3s 216ms/step - loss: 0.0039 - val_loss: 0.0246\n",
      "Epoch 3/100\n",
      "12/12 [==============================] - 2s 208ms/step - loss: 0.0016 - val_loss: 0.0218\n",
      "Epoch 4/100\n",
      "12/12 [==============================] - 2s 197ms/step - loss: 7.9402e-04 - val_loss: 0.0256\n",
      "Epoch 5/100\n",
      "12/12 [==============================] - 2s 198ms/step - loss: 6.2769e-04 - val_loss: 0.0233\n",
      "Epoch 6/100\n",
      "12/12 [==============================] - 2s 199ms/step - loss: 5.5120e-04 - val_loss: 0.0209\n",
      "Epoch 7/100\n",
      "12/12 [==============================] - 2s 205ms/step - loss: 5.2661e-04 - val_loss: 0.0222\n",
      "Epoch 8/100\n",
      "12/12 [==============================] - 2s 207ms/step - loss: 5.2217e-04 - val_loss: 0.0223\n",
      "Epoch 9/100\n",
      "12/12 [==============================] - 2s 205ms/step - loss: 5.2344e-04 - val_loss: 0.0214\n",
      "Epoch 10/100\n",
      "12/12 [==============================] - 2s 202ms/step - loss: 5.4453e-04 - val_loss: 0.0218\n",
      "Epoch 11/100\n",
      "12/12 [==============================] - 2s 197ms/step - loss: 4.7975e-04 - val_loss: 0.0214\n",
      "Epoch 12/100\n",
      "12/12 [==============================] - 2s 199ms/step - loss: 4.6188e-04 - val_loss: 0.0203\n",
      "Epoch 13/100\n",
      "12/12 [==============================] - 2s 198ms/step - loss: 4.4041e-04 - val_loss: 0.0193\n",
      "Epoch 14/100\n",
      "12/12 [==============================] - 2s 204ms/step - loss: 4.7492e-04 - val_loss: 0.0213\n",
      "Epoch 15/100\n",
      "12/12 [==============================] - 2s 199ms/step - loss: 4.4571e-04 - val_loss: 0.0191\n",
      "Epoch 16/100\n",
      "12/12 [==============================] - 2s 204ms/step - loss: 4.0245e-04 - val_loss: 0.0187\n",
      "Epoch 17/100\n",
      "12/12 [==============================] - 2s 204ms/step - loss: 4.3009e-04 - val_loss: 0.0174\n",
      "Epoch 18/100\n",
      "12/12 [==============================] - 2s 202ms/step - loss: 3.9872e-04 - val_loss: 0.0188\n",
      "Epoch 19/100\n",
      "12/12 [==============================] - 2s 202ms/step - loss: 4.0146e-04 - val_loss: 0.0169\n",
      "Epoch 20/100\n",
      "12/12 [==============================] - 2s 200ms/step - loss: 3.4686e-04 - val_loss: 0.0156\n",
      "Epoch 21/100\n",
      "12/12 [==============================] - 2s 206ms/step - loss: 3.4142e-04 - val_loss: 0.0154\n",
      "Epoch 22/100\n",
      "12/12 [==============================] - 2s 204ms/step - loss: 3.3730e-04 - val_loss: 0.0159\n",
      "Epoch 23/100\n",
      "12/12 [==============================] - 2s 200ms/step - loss: 3.2755e-04 - val_loss: 0.0143\n",
      "Epoch 24/100\n",
      "12/12 [==============================] - 2s 204ms/step - loss: 3.1884e-04 - val_loss: 0.0147\n",
      "Epoch 25/100\n",
      "12/12 [==============================] - 2s 203ms/step - loss: 3.1391e-04 - val_loss: 0.0153\n",
      "Epoch 26/100\n",
      "12/12 [==============================] - 2s 203ms/step - loss: 3.4714e-04 - val_loss: 0.0136\n",
      "Epoch 27/100\n",
      "12/12 [==============================] - 2s 203ms/step - loss: 3.3196e-04 - val_loss: 0.0143\n",
      "Epoch 28/100\n",
      "12/12 [==============================] - 2s 203ms/step - loss: 3.2078e-04 - val_loss: 0.0141\n",
      "Epoch 29/100\n",
      "12/12 [==============================] - 2s 201ms/step - loss: 2.8670e-04 - val_loss: 0.0133\n",
      "Epoch 30/100\n",
      "12/12 [==============================] - 2s 206ms/step - loss: 2.8225e-04 - val_loss: 0.0131\n",
      "Epoch 31/100\n",
      "12/12 [==============================] - 2s 204ms/step - loss: 2.7744e-04 - val_loss: 0.0133\n",
      "Epoch 32/100\n",
      "12/12 [==============================] - 2s 205ms/step - loss: 2.7406e-04 - val_loss: 0.0121\n",
      "Epoch 33/100\n",
      "12/12 [==============================] - 2s 202ms/step - loss: 2.8233e-04 - val_loss: 0.0132\n",
      "Epoch 34/100\n",
      "12/12 [==============================] - 2s 205ms/step - loss: 2.7566e-04 - val_loss: 0.0123\n",
      "Epoch 35/100\n",
      "12/12 [==============================] - 2s 205ms/step - loss: 2.8357e-04 - val_loss: 0.0121\n",
      "Epoch 36/100\n",
      "12/12 [==============================] - 2s 202ms/step - loss: 2.9333e-04 - val_loss: 0.0119\n",
      "Epoch 37/100\n",
      "12/12 [==============================] - 2s 202ms/step - loss: 2.9858e-04 - val_loss: 0.0130\n",
      "Epoch 38/100\n",
      "12/12 [==============================] - 2s 205ms/step - loss: 2.9845e-04 - val_loss: 0.0115\n",
      "Epoch 39/100\n",
      "12/12 [==============================] - 2s 206ms/step - loss: 2.5685e-04 - val_loss: 0.0104\n",
      "Epoch 40/100\n",
      "12/12 [==============================] - 2s 202ms/step - loss: 2.8034e-04 - val_loss: 0.0114\n",
      "Epoch 41/100\n",
      "12/12 [==============================] - 2s 205ms/step - loss: 2.7925e-04 - val_loss: 0.0110\n",
      "Epoch 42/100\n",
      "12/12 [==============================] - 2s 204ms/step - loss: 3.3668e-04 - val_loss: 0.0099\n",
      "Epoch 43/100\n",
      "12/12 [==============================] - 2s 202ms/step - loss: 2.8289e-04 - val_loss: 0.0107\n",
      "Epoch 44/100\n",
      "12/12 [==============================] - 2s 202ms/step - loss: 2.8912e-04 - val_loss: 0.0115\n",
      "Epoch 45/100\n",
      "12/12 [==============================] - 2s 200ms/step - loss: 2.8203e-04 - val_loss: 0.0104\n",
      "Epoch 46/100\n",
      "12/12 [==============================] - 2s 204ms/step - loss: 2.5099e-04 - val_loss: 0.0103\n",
      "Epoch 47/100\n",
      "12/12 [==============================] - 2s 200ms/step - loss: 2.4994e-04 - val_loss: 0.0107\n",
      "Epoch 48/100\n",
      "12/12 [==============================] - 2s 204ms/step - loss: 2.5327e-04 - val_loss: 0.0107\n",
      "Epoch 49/100\n",
      "12/12 [==============================] - 2s 205ms/step - loss: 2.4405e-04 - val_loss: 0.0110\n",
      "Epoch 50/100\n",
      "12/12 [==============================] - 2s 202ms/step - loss: 2.3632e-04 - val_loss: 0.0089\n",
      "Epoch 51/100\n",
      "12/12 [==============================] - 2s 200ms/step - loss: 4.7478e-04 - val_loss: 0.0122\n",
      "Epoch 52/100\n",
      "12/12 [==============================] - 2s 194ms/step - loss: 3.4189e-04 - val_loss: 0.0092\n",
      "Epoch 53/100\n",
      "12/12 [==============================] - 2s 191ms/step - loss: 2.6227e-04 - val_loss: 0.0098\n",
      "Epoch 54/100\n",
      "12/12 [==============================] - 2s 191ms/step - loss: 2.6165e-04 - val_loss: 0.0096\n",
      "Epoch 55/100\n",
      "12/12 [==============================] - 2s 190ms/step - loss: 2.5291e-04 - val_loss: 0.0090\n",
      "Epoch 56/100\n",
      "12/12 [==============================] - 2s 195ms/step - loss: 2.7613e-04 - val_loss: 0.0098\n",
      "Epoch 57/100\n",
      "12/12 [==============================] - 2s 195ms/step - loss: 3.1222e-04 - val_loss: 0.0084\n",
      "Epoch 58/100\n",
      "12/12 [==============================] - 2s 197ms/step - loss: 2.8866e-04 - val_loss: 0.0094\n",
      "Epoch 59/100\n",
      "12/12 [==============================] - 2s 195ms/step - loss: 2.6223e-04 - val_loss: 0.0086\n",
      "Epoch 60/100\n",
      "12/12 [==============================] - 2s 193ms/step - loss: 2.4368e-04 - val_loss: 0.0090\n",
      "Epoch 61/100\n",
      "12/12 [==============================] - 2s 200ms/step - loss: 2.9950e-04 - val_loss: 0.0083\n",
      "Epoch 62/100\n",
      "12/12 [==============================] - 2s 200ms/step - loss: 2.5017e-04 - val_loss: 0.0096\n",
      "Epoch 63/100\n",
      "12/12 [==============================] - 2s 198ms/step - loss: 2.7797e-04 - val_loss: 0.0081\n",
      "Epoch 64/100\n",
      "12/12 [==============================] - 2s 198ms/step - loss: 3.3750e-04 - val_loss: 0.0085\n",
      "Epoch 65/100\n",
      "12/12 [==============================] - 2s 197ms/step - loss: 2.5740e-04 - val_loss: 0.0082\n",
      "Epoch 66/100\n",
      "12/12 [==============================] - 2s 199ms/step - loss: 2.2630e-04 - val_loss: 0.0090\n",
      "Epoch 67/100\n",
      "12/12 [==============================] - 2s 200ms/step - loss: 2.3471e-04 - val_loss: 0.0083\n",
      "Epoch 68/100\n",
      "12/12 [==============================] - 2s 199ms/step - loss: 2.0951e-04 - val_loss: 0.0086\n",
      "Epoch 69/100\n",
      "12/12 [==============================] - 2s 199ms/step - loss: 2.1592e-04 - val_loss: 0.0081\n",
      "Epoch 70/100\n",
      "12/12 [==============================] - 2s 194ms/step - loss: 2.2581e-04 - val_loss: 0.0084\n",
      "Epoch 71/100\n",
      "12/12 [==============================] - 2s 196ms/step - loss: 2.1132e-04 - val_loss: 0.0085\n",
      "Epoch 72/100\n",
      "12/12 [==============================] - 2s 200ms/step - loss: 2.0256e-04 - val_loss: 0.0083\n",
      "Epoch 73/100\n",
      "12/12 [==============================] - 2s 194ms/step - loss: 1.9983e-04 - val_loss: 0.0080\n",
      "Epoch 74/100\n",
      "12/12 [==============================] - 2s 199ms/step - loss: 2.1433e-04 - val_loss: 0.0086\n",
      "Epoch 75/100\n",
      "12/12 [==============================] - 2s 200ms/step - loss: 2.0630e-04 - val_loss: 0.0081\n",
      "Epoch 76/100\n",
      "12/12 [==============================] - 2s 200ms/step - loss: 2.2023e-04 - val_loss: 0.0077\n",
      "Epoch 77/100\n",
      "12/12 [==============================] - 2s 199ms/step - loss: 2.1523e-04 - val_loss: 0.0083\n",
      "Epoch 78/100\n"
     ]
    },
    {
     "name": "stdout",
     "output_type": "stream",
     "text": [
      "12/12 [==============================] - 2s 199ms/step - loss: 1.9743e-04 - val_loss: 0.0075\n",
      "Epoch 79/100\n",
      "12/12 [==============================] - 2s 203ms/step - loss: 2.2847e-04 - val_loss: 0.0088\n",
      "Epoch 80/100\n",
      "12/12 [==============================] - 2s 199ms/step - loss: 2.7895e-04 - val_loss: 0.0070\n",
      "Epoch 81/100\n",
      "12/12 [==============================] - 2s 202ms/step - loss: 2.6505e-04 - val_loss: 0.0077\n",
      "Epoch 82/100\n",
      "12/12 [==============================] - 2s 200ms/step - loss: 2.4939e-04 - val_loss: 0.0068\n",
      "Epoch 83/100\n",
      "12/12 [==============================] - 2s 201ms/step - loss: 2.2977e-04 - val_loss: 0.0074\n",
      "Epoch 84/100\n",
      "12/12 [==============================] - 2s 200ms/step - loss: 1.9845e-04 - val_loss: 0.0073\n",
      "Epoch 85/100\n",
      "12/12 [==============================] - 2s 200ms/step - loss: 1.8271e-04 - val_loss: 0.0070\n",
      "Epoch 86/100\n",
      "12/12 [==============================] - 2s 196ms/step - loss: 1.8629e-04 - val_loss: 0.0071\n",
      "Epoch 87/100\n",
      "12/12 [==============================] - 2s 202ms/step - loss: 1.7919e-04 - val_loss: 0.0068\n",
      "Epoch 88/100\n",
      "12/12 [==============================] - 2s 201ms/step - loss: 2.0347e-04 - val_loss: 0.0072\n",
      "Epoch 89/100\n",
      "12/12 [==============================] - 2s 202ms/step - loss: 1.9915e-04 - val_loss: 0.0070\n",
      "Epoch 90/100\n",
      "12/12 [==============================] - 2s 201ms/step - loss: 1.8989e-04 - val_loss: 0.0071\n",
      "Epoch 91/100\n",
      "12/12 [==============================] - 2s 201ms/step - loss: 1.9257e-04 - val_loss: 0.0070\n",
      "Epoch 92/100\n",
      "12/12 [==============================] - 2s 199ms/step - loss: 1.7470e-04 - val_loss: 0.0068\n",
      "Epoch 93/100\n",
      "12/12 [==============================] - 2s 196ms/step - loss: 1.8498e-04 - val_loss: 0.0066\n",
      "Epoch 94/100\n",
      "12/12 [==============================] - 2s 197ms/step - loss: 1.8716e-04 - val_loss: 0.0066\n",
      "Epoch 95/100\n",
      "12/12 [==============================] - 2s 198ms/step - loss: 1.7049e-04 - val_loss: 0.0064\n",
      "Epoch 96/100\n",
      "12/12 [==============================] - 2s 198ms/step - loss: 2.2447e-04 - val_loss: 0.0070\n",
      "Epoch 97/100\n",
      "12/12 [==============================] - 2s 199ms/step - loss: 1.8882e-04 - val_loss: 0.0062\n",
      "Epoch 98/100\n",
      "12/12 [==============================] - 2s 196ms/step - loss: 1.8038e-04 - val_loss: 0.0065\n",
      "Epoch 99/100\n",
      "12/12 [==============================] - 2s 198ms/step - loss: 1.6445e-04 - val_loss: 0.0061\n",
      "Epoch 100/100\n",
      "12/12 [==============================] - 2s 193ms/step - loss: 1.6468e-04 - val_loss: 0.0061\n"
     ]
    },
    {
     "data": {
      "text/plain": [
       "<tensorflow.python.keras.callbacks.History at 0x1da67733550>"
      ]
     },
     "execution_count": 69,
     "metadata": {},
     "output_type": "execute_result"
    }
   ],
   "source": [
    "model.fit(X_train,Y_train,validation_data=(X_test,Y_test),epochs=100,batch_size=64,verbose=1)"
   ]
  },
  {
   "cell_type": "code",
   "execution_count": 72,
   "id": "ffde0371",
   "metadata": {},
   "outputs": [],
   "source": [
    "train_predict=model.predict(X_train)"
   ]
  },
  {
   "cell_type": "code",
   "execution_count": 73,
   "id": "3fbf3162",
   "metadata": {},
   "outputs": [],
   "source": [
    "test_predict=model.predict(X_test)"
   ]
  },
  {
   "cell_type": "code",
   "execution_count": 74,
   "id": "36378c44",
   "metadata": {},
   "outputs": [],
   "source": [
    "##Transformback to original form\n",
    "train_predict=scaler.inverse_transform(train_predict)\n",
    "test_predict=scaler.inverse_transform(test_predict)"
   ]
  },
  {
   "cell_type": "code",
   "execution_count": 75,
   "id": "41c07a4c",
   "metadata": {},
   "outputs": [
    {
     "data": {
      "text/plain": [
       "array([[381.44046],\n",
       "       [380.49808],\n",
       "       [379.2269 ],\n",
       "       [374.84128],\n",
       "       [368.12793]], dtype=float32)"
      ]
     },
     "execution_count": 75,
     "metadata": {},
     "output_type": "execute_result"
    }
   ],
   "source": [
    "test_predict[:5]"
   ]
  },
  {
   "cell_type": "code",
   "execution_count": 78,
   "id": "d7e19779",
   "metadata": {},
   "outputs": [
    {
     "data": {
      "text/plain": [
       "array([[388.  ],\n",
       "       [389.09],\n",
       "       [371.38],\n",
       "       [370.46],\n",
       "       [379.24]])"
      ]
     },
     "execution_count": 78,
     "metadata": {},
     "output_type": "execute_result"
    }
   ],
   "source": [
    "scaler.inverse_transform(np.array(Y_test[:5]).reshape(-1,1))"
   ]
  },
  {
   "cell_type": "code",
   "execution_count": 81,
   "id": "36473167",
   "metadata": {},
   "outputs": [
    {
     "data": {
      "text/plain": [
       "199.40514246524128"
      ]
     },
     "execution_count": 81,
     "metadata": {},
     "output_type": "execute_result"
    }
   ],
   "source": [
    "from sklearn.metrics import mean_squared_error\n",
    "np.sqrt(mean_squared_error(Y_train,train_predict)) #Training data RMSE"
   ]
  },
  {
   "cell_type": "code",
   "execution_count": 82,
   "id": "6641e0f9",
   "metadata": {},
   "outputs": [
    {
     "data": {
      "text/plain": [
       "181.60963132080113"
      ]
     },
     "execution_count": 82,
     "metadata": {},
     "output_type": "execute_result"
    }
   ],
   "source": [
    "#Test data RMSE\n",
    "np.sqrt(mean_squared_error(Y_test,test_predict))"
   ]
  },
  {
   "cell_type": "code",
   "execution_count": 106,
   "id": "d5bf6373",
   "metadata": {},
   "outputs": [
    {
     "data": {
      "image/png": "[encoded data removed]",
      "text/plain": [
       "<Figure size 432x288 with 1 Axes>"
      ]
     },
     "metadata": {
      "needs_background": "light"
     },
     "output_type": "display_data"
    }
   ],
   "source": [
    "### Plotting \n",
    "# shift train predictions for plotting\n",
    "\n",
    "look_back=100\n",
    "trainpredictplot=np.empty_like(df1) #Make a new array with the same shape as df1\n",
    "trainpredictplot[:,:]=np.nan #Fill that array with NaN\n",
    "trainpredictplot[look_back:len(train_predict)+look_back,:]=train_predict\n",
    "\n",
    "# shift test predictions for plotting\n",
    "testpredictplot=np.empty_like(df1)\n",
    "testpredictplot[:,:]=np.nan\n",
    "testpredictplot[len(train_predict)+(look_back*2)+1:len(df1)-1,:]=test_predict\n",
    "# plot baseline and predictions\n",
    "plt.plot(scaler.inverse_transform(df1))\n",
    "plt.plot(trainpredictplot)\n",
    "plt.plot(testpredictplot)\n",
    "plt.show()"
   ]
  },
  {
   "cell_type": "code",
   "execution_count": 92,
   "id": "d912128b",
   "metadata": {},
   "outputs": [
    {
     "data": {
      "text/plain": [
       "716"
      ]
     },
     "execution_count": 92,
     "metadata": {},
     "output_type": "execute_result"
    }
   ],
   "source": [
    "len(train_predict)"
   ]
  },
  {
   "cell_type": "code",
   "execution_count": 107,
   "id": "49073a88",
   "metadata": {},
   "outputs": [
    {
     "data": {
      "text/plain": [
       "440"
      ]
     },
     "execution_count": 107,
     "metadata": {},
     "output_type": "execute_result"
    }
   ],
   "source": [
    "len(test_data)"
   ]
  },
  {
   "cell_type": "code",
   "execution_count": 108,
   "id": "37109871",
   "metadata": {},
   "outputs": [
    {
     "data": {
      "text/plain": [
       "(1, 100)"
      ]
     },
     "execution_count": 108,
     "metadata": {},
     "output_type": "execute_result"
    }
   ],
   "source": [
    "x_input=test_data[340:].reshape(1,-1)\n",
    "x_input.shape"
   ]
  },
  {
   "cell_type": "code",
   "execution_count": 110,
   "id": "322873e1",
   "metadata": {},
   "outputs": [],
   "source": [
    "temp_input=list(x_input)\n",
    "temp_input=temp_input[0].tolist()"
   ]
  },
  {
   "cell_type": "code",
   "execution_count": 111,
   "id": "849ae3ee",
   "metadata": {},
   "outputs": [
    {
     "data": {
      "text/plain": [
       "[0.08295554164057606,\n",
       " 0.08811521603005634,\n",
       " 0.09450219160926732,\n",
       " 0.09117094552285532,\n",
       " 0.09585472761427677,\n",
       " 0.09432686286787723,\n",
       " 0.09718221665623034,\n",
       " 0.10597370068879147,\n",
       " 0.10429555416405756,\n",
       " 0.09906073888541006,\n",
       " 0.08919223544145266,\n",
       " 0.09845961177207263,\n",
       " 0.0965810895428929,\n",
       " 0.10008766437069505,\n",
       " 0.10449592986850342,\n",
       " 0.1055729492798998,\n",
       " 0.10001252348152784,\n",
       " 0.0955291170945522,\n",
       " 0.09718221665623034,\n",
       " 0.0977332498434565,\n",
       " 0.09688165309956165,\n",
       " 0.10149029430181589,\n",
       " 0.10046336881653095,\n",
       " 0.10073888541014397,\n",
       " 0.09843456480901686,\n",
       " 0.0983093299937382,\n",
       " 0.09708202880400746,\n",
       " 0.0977332498434565,\n",
       " 0.10532247964934244,\n",
       " 0.10584846587351276,\n",
       " 0.11090795241077017,\n",
       " 0.10857858484658728,\n",
       " 0.09898559799624296,\n",
       " 0.09983719474013769,\n",
       " 0.10356919223544142,\n",
       " 0.10737633061991231,\n",
       " 0.10715090795241072,\n",
       " 0.10399499060738887,\n",
       " 0.101941139636819,\n",
       " 0.1045961177207263,\n",
       " 0.11591734502191609,\n",
       " 0.11268628678772696,\n",
       " 0.11438948027551654,\n",
       " 0.11724483406386971,\n",
       " 0.11887288666249218,\n",
       " 0.12485911083281148,\n",
       " 0.12090169067000628,\n",
       " 0.11829680651221036,\n",
       " 0.1055228553537883,\n",
       " 0.10697557921102063,\n",
       " 0.10339386349405133,\n",
       " 0.10567313713212267,\n",
       " 0.10507201001878513,\n",
       " 0.09823418910457105,\n",
       " 0.0904195366311834,\n",
       " 0.0916468378209142,\n",
       " 0.09770820288040072,\n",
       " 0.10016280525986221,\n",
       " 0.10038822792736374,\n",
       " 0.09650594865372569,\n",
       " 0.08783969943644326,\n",
       " 0.09014402003757044,\n",
       " 0.08681277395115838,\n",
       " 0.08969317470256727,\n",
       " 0.08090169067000619,\n",
       " 0.08583594239198494,\n",
       " 0.08806512210394485,\n",
       " 0.09129618033813391,\n",
       " 0.09031934877896053,\n",
       " 0.09009392611145894,\n",
       " 0.0868378209142141,\n",
       " 0.08533500313087033,\n",
       " 0.09247338760175322,\n",
       " 0.09517845961177201,\n",
       " 0.09946149029430179,\n",
       " 0.10499686912961798,\n",
       " 0.10624921728240444,\n",
       " 0.10680025046963049,\n",
       " 0.10482154038822789,\n",
       " 0.10469630557294918,\n",
       " 0.10639949906073881,\n",
       " 0.10522229179711956,\n",
       " 0.11453976205385091,\n",
       " 0.10760175328741389,\n",
       " 0.10549780839073258,\n",
       " 0.10815278647463994,\n",
       " 0.11183469004383217,\n",
       " 0.1105072010018785,\n",
       " 0.11130870381966185,\n",
       " 0.10920475892298054,\n",
       " 0.11013149655604254,\n",
       " 0.10289292423293667,\n",
       " 0.10276768941765807,\n",
       " 0.10807764558547273,\n",
       " 0.10810269254852845,\n",
       " 0.11060738885410137,\n",
       " 0.11684408265497809,\n",
       " 0.12781465247338758,\n",
       " 0.13452723857232307,\n",
       " 0.13570444583594238]"
      ]
     },
     "execution_count": 111,
     "metadata": {},
     "output_type": "execute_result"
    }
   ],
   "source": [
    "temp_input"
   ]
  },
  {
   "cell_type": "code",
   "execution_count": 112,
   "id": "4324e29d",
   "metadata": {},
   "outputs": [
    {
     "name": "stdout",
     "output_type": "stream",
     "text": [
      "[0.12432145]\n",
      "101\n",
      "1 day input [0.08811522 0.09450219 0.09117095 0.09585473 0.09432686 0.09718222\n",
      " 0.1059737  0.10429555 0.09906074 0.08919224 0.09845961 0.09658109\n",
      " 0.10008766 0.10449593 0.10557295 0.10001252 0.09552912 0.09718222\n",
      " 0.09773325 0.09688165 0.10149029 0.10046337 0.10073889 0.09843456\n",
      " 0.09830933 0.09708203 0.09773325 0.10532248 0.10584847 0.11090795\n",
      " 0.10857858 0.0989856  0.09983719 0.10356919 0.10737633 0.10715091\n",
      " 0.10399499 0.10194114 0.10459612 0.11591735 0.11268629 0.11438948\n",
      " 0.11724483 0.11887289 0.12485911 0.12090169 0.11829681 0.10552286\n",
      " 0.10697558 0.10339386 0.10567314 0.10507201 0.09823419 0.09041954\n",
      " 0.09164684 0.0977082  0.10016281 0.10038823 0.09650595 0.0878397\n",
      " 0.09014402 0.08681277 0.08969317 0.08090169 0.08583594 0.08806512\n",
      " 0.09129618 0.09031935 0.09009393 0.08683782 0.085335   0.09247339\n",
      " 0.09517846 0.09946149 0.10499687 0.10624922 0.10680025 0.10482154\n",
      " 0.10469631 0.1063995  0.10522229 0.11453976 0.10760175 0.10549781\n",
      " 0.10815279 0.11183469 0.1105072  0.1113087  0.10920476 0.1101315\n",
      " 0.10289292 0.10276769 0.10807765 0.10810269 0.11060739 0.11684408\n",
      " 0.12781465 0.13452724 0.13570445 0.12432145]\n",
      "1 day output [[0.12873165]]\n",
      "2 day input [0.09450219 0.09117095 0.09585473 0.09432686 0.09718222 0.1059737\n",
      " 0.10429555 0.09906074 0.08919224 0.09845961 0.09658109 0.10008766\n",
      " 0.10449593 0.10557295 0.10001252 0.09552912 0.09718222 0.09773325\n",
      " 0.09688165 0.10149029 0.10046337 0.10073889 0.09843456 0.09830933\n",
      " 0.09708203 0.09773325 0.10532248 0.10584847 0.11090795 0.10857858\n",
      " 0.0989856  0.09983719 0.10356919 0.10737633 0.10715091 0.10399499\n",
      " 0.10194114 0.10459612 0.11591735 0.11268629 0.11438948 0.11724483\n",
      " 0.11887289 0.12485911 0.12090169 0.11829681 0.10552286 0.10697558\n",
      " 0.10339386 0.10567314 0.10507201 0.09823419 0.09041954 0.09164684\n",
      " 0.0977082  0.10016281 0.10038823 0.09650595 0.0878397  0.09014402\n",
      " 0.08681277 0.08969317 0.08090169 0.08583594 0.08806512 0.09129618\n",
      " 0.09031935 0.09009393 0.08683782 0.085335   0.09247339 0.09517846\n",
      " 0.09946149 0.10499687 0.10624922 0.10680025 0.10482154 0.10469631\n",
      " 0.1063995  0.10522229 0.11453976 0.10760175 0.10549781 0.10815279\n",
      " 0.11183469 0.1105072  0.1113087  0.10920476 0.1101315  0.10289292\n",
      " 0.10276769 0.10807765 0.10810269 0.11060739 0.11684408 0.12781465\n",
      " 0.13452724 0.13570445 0.12432145 0.12873165]\n",
      "2 day output [[0.13206913]]\n",
      "3 day input [0.09117095 0.09585473 0.09432686 0.09718222 0.1059737  0.10429555\n",
      " 0.09906074 0.08919224 0.09845961 0.09658109 0.10008766 0.10449593\n",
      " 0.10557295 0.10001252 0.09552912 0.09718222 0.09773325 0.09688165\n",
      " 0.10149029 0.10046337 0.10073889 0.09843456 0.09830933 0.09708203\n",
      " 0.09773325 0.10532248 0.10584847 0.11090795 0.10857858 0.0989856\n",
      " 0.09983719 0.10356919 0.10737633 0.10715091 0.10399499 0.10194114\n",
      " 0.10459612 0.11591735 0.11268629 0.11438948 0.11724483 0.11887289\n",
      " 0.12485911 0.12090169 0.11829681 0.10552286 0.10697558 0.10339386\n",
      " 0.10567314 0.10507201 0.09823419 0.09041954 0.09164684 0.0977082\n",
      " 0.10016281 0.10038823 0.09650595 0.0878397  0.09014402 0.08681277\n",
      " 0.08969317 0.08090169 0.08583594 0.08806512 0.09129618 0.09031935\n",
      " 0.09009393 0.08683782 0.085335   0.09247339 0.09517846 0.09946149\n",
      " 0.10499687 0.10624922 0.10680025 0.10482154 0.10469631 0.1063995\n",
      " 0.10522229 0.11453976 0.10760175 0.10549781 0.10815279 0.11183469\n",
      " 0.1105072  0.1113087  0.10920476 0.1101315  0.10289292 0.10276769\n",
      " 0.10807765 0.10810269 0.11060739 0.11684408 0.12781465 0.13452724\n",
      " 0.13570445 0.12432145 0.12873165 0.13206913]\n",
      "3 day output [[0.13452329]]\n",
      "4 day input [0.09585473 0.09432686 0.09718222 0.1059737  0.10429555 0.09906074\n",
      " 0.08919224 0.09845961 0.09658109 0.10008766 0.10449593 0.10557295\n",
      " 0.10001252 0.09552912 0.09718222 0.09773325 0.09688165 0.10149029\n",
      " 0.10046337 0.10073889 0.09843456 0.09830933 0.09708203 0.09773325\n",
      " 0.10532248 0.10584847 0.11090795 0.10857858 0.0989856  0.09983719\n",
      " 0.10356919 0.10737633 0.10715091 0.10399499 0.10194114 0.10459612\n",
      " 0.11591735 0.11268629 0.11438948 0.11724483 0.11887289 0.12485911\n",
      " 0.12090169 0.11829681 0.10552286 0.10697558 0.10339386 0.10567314\n",
      " 0.10507201 0.09823419 0.09041954 0.09164684 0.0977082  0.10016281\n",
      " 0.10038823 0.09650595 0.0878397  0.09014402 0.08681277 0.08969317\n",
      " 0.08090169 0.08583594 0.08806512 0.09129618 0.09031935 0.09009393\n",
      " 0.08683782 0.085335   0.09247339 0.09517846 0.09946149 0.10499687\n",
      " 0.10624922 0.10680025 0.10482154 0.10469631 0.1063995  0.10522229\n",
      " 0.11453976 0.10760175 0.10549781 0.10815279 0.11183469 0.1105072\n",
      " 0.1113087  0.10920476 0.1101315  0.10289292 0.10276769 0.10807765\n",
      " 0.10810269 0.11060739 0.11684408 0.12781465 0.13452724 0.13570445\n",
      " 0.12432145 0.12873165 0.13206913 0.13452329]\n",
      "4 day output [[0.13639909]]\n",
      "5 day input [0.09432686 0.09718222 0.1059737  0.10429555 0.09906074 0.08919224\n",
      " 0.09845961 0.09658109 0.10008766 0.10449593 0.10557295 0.10001252\n",
      " 0.09552912 0.09718222 0.09773325 0.09688165 0.10149029 0.10046337\n",
      " 0.10073889 0.09843456 0.09830933 0.09708203 0.09773325 0.10532248\n",
      " 0.10584847 0.11090795 0.10857858 0.0989856  0.09983719 0.10356919\n",
      " 0.10737633 0.10715091 0.10399499 0.10194114 0.10459612 0.11591735\n",
      " 0.11268629 0.11438948 0.11724483 0.11887289 0.12485911 0.12090169\n",
      " 0.11829681 0.10552286 0.10697558 0.10339386 0.10567314 0.10507201\n",
      " 0.09823419 0.09041954 0.09164684 0.0977082  0.10016281 0.10038823\n",
      " 0.09650595 0.0878397  0.09014402 0.08681277 0.08969317 0.08090169\n",
      " 0.08583594 0.08806512 0.09129618 0.09031935 0.09009393 0.08683782\n",
      " 0.085335   0.09247339 0.09517846 0.09946149 0.10499687 0.10624922\n",
      " 0.10680025 0.10482154 0.10469631 0.1063995  0.10522229 0.11453976\n",
      " 0.10760175 0.10549781 0.10815279 0.11183469 0.1105072  0.1113087\n",
      " 0.10920476 0.1101315  0.10289292 0.10276769 0.10807765 0.10810269\n",
      " 0.11060739 0.11684408 0.12781465 0.13452724 0.13570445 0.12432145\n",
      " 0.12873165 0.13206913 0.13452329 0.13639909]\n",
      "5 day output [[0.13794678]]\n",
      "6 day input [0.09718222 0.1059737  0.10429555 0.09906074 0.08919224 0.09845961\n",
      " 0.09658109 0.10008766 0.10449593 0.10557295 0.10001252 0.09552912\n",
      " 0.09718222 0.09773325 0.09688165 0.10149029 0.10046337 0.10073889\n",
      " 0.09843456 0.09830933 0.09708203 0.09773325 0.10532248 0.10584847\n",
      " 0.11090795 0.10857858 0.0989856  0.09983719 0.10356919 0.10737633\n",
      " 0.10715091 0.10399499 0.10194114 0.10459612 0.11591735 0.11268629\n",
      " 0.11438948 0.11724483 0.11887289 0.12485911 0.12090169 0.11829681\n",
      " 0.10552286 0.10697558 0.10339386 0.10567314 0.10507201 0.09823419\n",
      " 0.09041954 0.09164684 0.0977082  0.10016281 0.10038823 0.09650595\n",
      " 0.0878397  0.09014402 0.08681277 0.08969317 0.08090169 0.08583594\n",
      " 0.08806512 0.09129618 0.09031935 0.09009393 0.08683782 0.085335\n",
      " 0.09247339 0.09517846 0.09946149 0.10499687 0.10624922 0.10680025\n",
      " 0.10482154 0.10469631 0.1063995  0.10522229 0.11453976 0.10760175\n",
      " 0.10549781 0.10815279 0.11183469 0.1105072  0.1113087  0.10920476\n",
      " 0.1101315  0.10289292 0.10276769 0.10807765 0.10810269 0.11060739\n",
      " 0.11684408 0.12781465 0.13452724 0.13570445 0.12432145 0.12873165\n",
      " 0.13206913 0.13452329 0.13639909 0.13794678]\n",
      "6 day output [[0.13932481]]\n",
      "7 day input [0.1059737  0.10429555 0.09906074 0.08919224 0.09845961 0.09658109\n",
      " 0.10008766 0.10449593 0.10557295 0.10001252 0.09552912 0.09718222\n",
      " 0.09773325 0.09688165 0.10149029 0.10046337 0.10073889 0.09843456\n",
      " 0.09830933 0.09708203 0.09773325 0.10532248 0.10584847 0.11090795\n",
      " 0.10857858 0.0989856  0.09983719 0.10356919 0.10737633 0.10715091\n",
      " 0.10399499 0.10194114 0.10459612 0.11591735 0.11268629 0.11438948\n",
      " 0.11724483 0.11887289 0.12485911 0.12090169 0.11829681 0.10552286\n",
      " 0.10697558 0.10339386 0.10567314 0.10507201 0.09823419 0.09041954\n",
      " 0.09164684 0.0977082  0.10016281 0.10038823 0.09650595 0.0878397\n",
      " 0.09014402 0.08681277 0.08969317 0.08090169 0.08583594 0.08806512\n",
      " 0.09129618 0.09031935 0.09009393 0.08683782 0.085335   0.09247339\n",
      " 0.09517846 0.09946149 0.10499687 0.10624922 0.10680025 0.10482154\n",
      " 0.10469631 0.1063995  0.10522229 0.11453976 0.10760175 0.10549781\n",
      " 0.10815279 0.11183469 0.1105072  0.1113087  0.10920476 0.1101315\n",
      " 0.10289292 0.10276769 0.10807765 0.10810269 0.11060739 0.11684408\n",
      " 0.12781465 0.13452724 0.13570445 0.12432145 0.12873165 0.13206913\n",
      " 0.13452329 0.13639909 0.13794678 0.13932481]\n",
      "7 day output [[0.14061704]]\n",
      "8 day input [0.10429555 0.09906074 0.08919224 0.09845961 0.09658109 0.10008766\n",
      " 0.10449593 0.10557295 0.10001252 0.09552912 0.09718222 0.09773325\n",
      " 0.09688165 0.10149029 0.10046337 0.10073889 0.09843456 0.09830933\n",
      " 0.09708203 0.09773325 0.10532248 0.10584847 0.11090795 0.10857858\n",
      " 0.0989856  0.09983719 0.10356919 0.10737633 0.10715091 0.10399499\n",
      " 0.10194114 0.10459612 0.11591735 0.11268629 0.11438948 0.11724483\n",
      " 0.11887289 0.12485911 0.12090169 0.11829681 0.10552286 0.10697558\n",
      " 0.10339386 0.10567314 0.10507201 0.09823419 0.09041954 0.09164684\n",
      " 0.0977082  0.10016281 0.10038823 0.09650595 0.0878397  0.09014402\n",
      " 0.08681277 0.08969317 0.08090169 0.08583594 0.08806512 0.09129618\n",
      " 0.09031935 0.09009393 0.08683782 0.085335   0.09247339 0.09517846\n",
      " 0.09946149 0.10499687 0.10624922 0.10680025 0.10482154 0.10469631\n",
      " 0.1063995  0.10522229 0.11453976 0.10760175 0.10549781 0.10815279\n",
      " 0.11183469 0.1105072  0.1113087  0.10920476 0.1101315  0.10289292\n",
      " 0.10276769 0.10807765 0.10810269 0.11060739 0.11684408 0.12781465\n",
      " 0.13452724 0.13570445 0.12432145 0.12873165 0.13206913 0.13452329\n",
      " 0.13639909 0.13794678 0.13932481 0.14061704]\n",
      "8 day output [[0.14186092]]\n",
      "9 day input [0.09906074 0.08919224 0.09845961 0.09658109 0.10008766 0.10449593\n",
      " 0.10557295 0.10001252 0.09552912 0.09718222 0.09773325 0.09688165\n",
      " 0.10149029 0.10046337 0.10073889 0.09843456 0.09830933 0.09708203\n",
      " 0.09773325 0.10532248 0.10584847 0.11090795 0.10857858 0.0989856\n",
      " 0.09983719 0.10356919 0.10737633 0.10715091 0.10399499 0.10194114\n",
      " 0.10459612 0.11591735 0.11268629 0.11438948 0.11724483 0.11887289\n",
      " 0.12485911 0.12090169 0.11829681 0.10552286 0.10697558 0.10339386\n",
      " 0.10567314 0.10507201 0.09823419 0.09041954 0.09164684 0.0977082\n",
      " 0.10016281 0.10038823 0.09650595 0.0878397  0.09014402 0.08681277\n",
      " 0.08969317 0.08090169 0.08583594 0.08806512 0.09129618 0.09031935\n",
      " 0.09009393 0.08683782 0.085335   0.09247339 0.09517846 0.09946149\n",
      " 0.10499687 0.10624922 0.10680025 0.10482154 0.10469631 0.1063995\n",
      " 0.10522229 0.11453976 0.10760175 0.10549781 0.10815279 0.11183469\n",
      " 0.1105072  0.1113087  0.10920476 0.1101315  0.10289292 0.10276769\n",
      " 0.10807765 0.10810269 0.11060739 0.11684408 0.12781465 0.13452724\n",
      " 0.13570445 0.12432145 0.12873165 0.13206913 0.13452329 0.13639909\n",
      " 0.13794678 0.13932481 0.14061704 0.14186092]\n"
     ]
    },
    {
     "name": "stdout",
     "output_type": "stream",
     "text": [
      "9 day output [[0.14307049]]\n",
      "10 day input [0.08919224 0.09845961 0.09658109 0.10008766 0.10449593 0.10557295\n",
      " 0.10001252 0.09552912 0.09718222 0.09773325 0.09688165 0.10149029\n",
      " 0.10046337 0.10073889 0.09843456 0.09830933 0.09708203 0.09773325\n",
      " 0.10532248 0.10584847 0.11090795 0.10857858 0.0989856  0.09983719\n",
      " 0.10356919 0.10737633 0.10715091 0.10399499 0.10194114 0.10459612\n",
      " 0.11591735 0.11268629 0.11438948 0.11724483 0.11887289 0.12485911\n",
      " 0.12090169 0.11829681 0.10552286 0.10697558 0.10339386 0.10567314\n",
      " 0.10507201 0.09823419 0.09041954 0.09164684 0.0977082  0.10016281\n",
      " 0.10038823 0.09650595 0.0878397  0.09014402 0.08681277 0.08969317\n",
      " 0.08090169 0.08583594 0.08806512 0.09129618 0.09031935 0.09009393\n",
      " 0.08683782 0.085335   0.09247339 0.09517846 0.09946149 0.10499687\n",
      " 0.10624922 0.10680025 0.10482154 0.10469631 0.1063995  0.10522229\n",
      " 0.11453976 0.10760175 0.10549781 0.10815279 0.11183469 0.1105072\n",
      " 0.1113087  0.10920476 0.1101315  0.10289292 0.10276769 0.10807765\n",
      " 0.10810269 0.11060739 0.11684408 0.12781465 0.13452724 0.13570445\n",
      " 0.12432145 0.12873165 0.13206913 0.13452329 0.13639909 0.13794678\n",
      " 0.13932481 0.14061704 0.14186092 0.14307049]\n",
      "10 day output [[0.1442508]]\n",
      "11 day input [0.09845961 0.09658109 0.10008766 0.10449593 0.10557295 0.10001252\n",
      " 0.09552912 0.09718222 0.09773325 0.09688165 0.10149029 0.10046337\n",
      " 0.10073889 0.09843456 0.09830933 0.09708203 0.09773325 0.10532248\n",
      " 0.10584847 0.11090795 0.10857858 0.0989856  0.09983719 0.10356919\n",
      " 0.10737633 0.10715091 0.10399499 0.10194114 0.10459612 0.11591735\n",
      " 0.11268629 0.11438948 0.11724483 0.11887289 0.12485911 0.12090169\n",
      " 0.11829681 0.10552286 0.10697558 0.10339386 0.10567314 0.10507201\n",
      " 0.09823419 0.09041954 0.09164684 0.0977082  0.10016281 0.10038823\n",
      " 0.09650595 0.0878397  0.09014402 0.08681277 0.08969317 0.08090169\n",
      " 0.08583594 0.08806512 0.09129618 0.09031935 0.09009393 0.08683782\n",
      " 0.085335   0.09247339 0.09517846 0.09946149 0.10499687 0.10624922\n",
      " 0.10680025 0.10482154 0.10469631 0.1063995  0.10522229 0.11453976\n",
      " 0.10760175 0.10549781 0.10815279 0.11183469 0.1105072  0.1113087\n",
      " 0.10920476 0.1101315  0.10289292 0.10276769 0.10807765 0.10810269\n",
      " 0.11060739 0.11684408 0.12781465 0.13452724 0.13570445 0.12432145\n",
      " 0.12873165 0.13206913 0.13452329 0.13639909 0.13794678 0.13932481\n",
      " 0.14061704 0.14186092 0.14307049 0.1442508 ]\n",
      "11 day output [[0.1454045]]\n",
      "12 day input [0.09658109 0.10008766 0.10449593 0.10557295 0.10001252 0.09552912\n",
      " 0.09718222 0.09773325 0.09688165 0.10149029 0.10046337 0.10073889\n",
      " 0.09843456 0.09830933 0.09708203 0.09773325 0.10532248 0.10584847\n",
      " 0.11090795 0.10857858 0.0989856  0.09983719 0.10356919 0.10737633\n",
      " 0.10715091 0.10399499 0.10194114 0.10459612 0.11591735 0.11268629\n",
      " 0.11438948 0.11724483 0.11887289 0.12485911 0.12090169 0.11829681\n",
      " 0.10552286 0.10697558 0.10339386 0.10567314 0.10507201 0.09823419\n",
      " 0.09041954 0.09164684 0.0977082  0.10016281 0.10038823 0.09650595\n",
      " 0.0878397  0.09014402 0.08681277 0.08969317 0.08090169 0.08583594\n",
      " 0.08806512 0.09129618 0.09031935 0.09009393 0.08683782 0.085335\n",
      " 0.09247339 0.09517846 0.09946149 0.10499687 0.10624922 0.10680025\n",
      " 0.10482154 0.10469631 0.1063995  0.10522229 0.11453976 0.10760175\n",
      " 0.10549781 0.10815279 0.11183469 0.1105072  0.1113087  0.10920476\n",
      " 0.1101315  0.10289292 0.10276769 0.10807765 0.10810269 0.11060739\n",
      " 0.11684408 0.12781465 0.13452724 0.13570445 0.12432145 0.12873165\n",
      " 0.13206913 0.13452329 0.13639909 0.13794678 0.13932481 0.14061704\n",
      " 0.14186092 0.14307049 0.1442508  0.1454045 ]\n",
      "12 day output [[0.1465346]]\n",
      "13 day input [0.10008766 0.10449593 0.10557295 0.10001252 0.09552912 0.09718222\n",
      " 0.09773325 0.09688165 0.10149029 0.10046337 0.10073889 0.09843456\n",
      " 0.09830933 0.09708203 0.09773325 0.10532248 0.10584847 0.11090795\n",
      " 0.10857858 0.0989856  0.09983719 0.10356919 0.10737633 0.10715091\n",
      " 0.10399499 0.10194114 0.10459612 0.11591735 0.11268629 0.11438948\n",
      " 0.11724483 0.11887289 0.12485911 0.12090169 0.11829681 0.10552286\n",
      " 0.10697558 0.10339386 0.10567314 0.10507201 0.09823419 0.09041954\n",
      " 0.09164684 0.0977082  0.10016281 0.10038823 0.09650595 0.0878397\n",
      " 0.09014402 0.08681277 0.08969317 0.08090169 0.08583594 0.08806512\n",
      " 0.09129618 0.09031935 0.09009393 0.08683782 0.085335   0.09247339\n",
      " 0.09517846 0.09946149 0.10499687 0.10624922 0.10680025 0.10482154\n",
      " 0.10469631 0.1063995  0.10522229 0.11453976 0.10760175 0.10549781\n",
      " 0.10815279 0.11183469 0.1105072  0.1113087  0.10920476 0.1101315\n",
      " 0.10289292 0.10276769 0.10807765 0.10810269 0.11060739 0.11684408\n",
      " 0.12781465 0.13452724 0.13570445 0.12432145 0.12873165 0.13206913\n",
      " 0.13452329 0.13639909 0.13794678 0.13932481 0.14061704 0.14186092\n",
      " 0.14307049 0.1442508  0.1454045  0.14653461]\n",
      "13 day output [[0.1476446]]\n",
      "14 day input [0.10449593 0.10557295 0.10001252 0.09552912 0.09718222 0.09773325\n",
      " 0.09688165 0.10149029 0.10046337 0.10073889 0.09843456 0.09830933\n",
      " 0.09708203 0.09773325 0.10532248 0.10584847 0.11090795 0.10857858\n",
      " 0.0989856  0.09983719 0.10356919 0.10737633 0.10715091 0.10399499\n",
      " 0.10194114 0.10459612 0.11591735 0.11268629 0.11438948 0.11724483\n",
      " 0.11887289 0.12485911 0.12090169 0.11829681 0.10552286 0.10697558\n",
      " 0.10339386 0.10567314 0.10507201 0.09823419 0.09041954 0.09164684\n",
      " 0.0977082  0.10016281 0.10038823 0.09650595 0.0878397  0.09014402\n",
      " 0.08681277 0.08969317 0.08090169 0.08583594 0.08806512 0.09129618\n",
      " 0.09031935 0.09009393 0.08683782 0.085335   0.09247339 0.09517846\n",
      " 0.09946149 0.10499687 0.10624922 0.10680025 0.10482154 0.10469631\n",
      " 0.1063995  0.10522229 0.11453976 0.10760175 0.10549781 0.10815279\n",
      " 0.11183469 0.1105072  0.1113087  0.10920476 0.1101315  0.10289292\n",
      " 0.10276769 0.10807765 0.10810269 0.11060739 0.11684408 0.12781465\n",
      " 0.13452724 0.13570445 0.12432145 0.12873165 0.13206913 0.13452329\n",
      " 0.13639909 0.13794678 0.13932481 0.14061704 0.14186092 0.14307049\n",
      " 0.1442508  0.1454045  0.14653461 0.14764459]\n",
      "14 day output [[0.14873838]]\n",
      "15 day input [0.10557295 0.10001252 0.09552912 0.09718222 0.09773325 0.09688165\n",
      " 0.10149029 0.10046337 0.10073889 0.09843456 0.09830933 0.09708203\n",
      " 0.09773325 0.10532248 0.10584847 0.11090795 0.10857858 0.0989856\n",
      " 0.09983719 0.10356919 0.10737633 0.10715091 0.10399499 0.10194114\n",
      " 0.10459612 0.11591735 0.11268629 0.11438948 0.11724483 0.11887289\n",
      " 0.12485911 0.12090169 0.11829681 0.10552286 0.10697558 0.10339386\n",
      " 0.10567314 0.10507201 0.09823419 0.09041954 0.09164684 0.0977082\n",
      " 0.10016281 0.10038823 0.09650595 0.0878397  0.09014402 0.08681277\n",
      " 0.08969317 0.08090169 0.08583594 0.08806512 0.09129618 0.09031935\n",
      " 0.09009393 0.08683782 0.085335   0.09247339 0.09517846 0.09946149\n",
      " 0.10499687 0.10624922 0.10680025 0.10482154 0.10469631 0.1063995\n",
      " 0.10522229 0.11453976 0.10760175 0.10549781 0.10815279 0.11183469\n",
      " 0.1105072  0.1113087  0.10920476 0.1101315  0.10289292 0.10276769\n",
      " 0.10807765 0.10810269 0.11060739 0.11684408 0.12781465 0.13452724\n",
      " 0.13570445 0.12432145 0.12873165 0.13206913 0.13452329 0.13639909\n",
      " 0.13794678 0.13932481 0.14061704 0.14186092 0.14307049 0.1442508\n",
      " 0.1454045  0.14653461 0.14764459 0.14873838]\n",
      "15 day output [[0.14981955]]\n",
      "16 day input [0.10001252 0.09552912 0.09718222 0.09773325 0.09688165 0.10149029\n",
      " 0.10046337 0.10073889 0.09843456 0.09830933 0.09708203 0.09773325\n",
      " 0.10532248 0.10584847 0.11090795 0.10857858 0.0989856  0.09983719\n",
      " 0.10356919 0.10737633 0.10715091 0.10399499 0.10194114 0.10459612\n",
      " 0.11591735 0.11268629 0.11438948 0.11724483 0.11887289 0.12485911\n",
      " 0.12090169 0.11829681 0.10552286 0.10697558 0.10339386 0.10567314\n",
      " 0.10507201 0.09823419 0.09041954 0.09164684 0.0977082  0.10016281\n",
      " 0.10038823 0.09650595 0.0878397  0.09014402 0.08681277 0.08969317\n",
      " 0.08090169 0.08583594 0.08806512 0.09129618 0.09031935 0.09009393\n",
      " 0.08683782 0.085335   0.09247339 0.09517846 0.09946149 0.10499687\n",
      " 0.10624922 0.10680025 0.10482154 0.10469631 0.1063995  0.10522229\n",
      " 0.11453976 0.10760175 0.10549781 0.10815279 0.11183469 0.1105072\n",
      " 0.1113087  0.10920476 0.1101315  0.10289292 0.10276769 0.10807765\n",
      " 0.10810269 0.11060739 0.11684408 0.12781465 0.13452724 0.13570445\n",
      " 0.12432145 0.12873165 0.13206913 0.13452329 0.13639909 0.13794678\n",
      " 0.13932481 0.14061704 0.14186092 0.14307049 0.1442508  0.1454045\n",
      " 0.14653461 0.14764459 0.14873838 0.14981955]\n",
      "16 day output [[0.1508912]]\n",
      "17 day input [0.09552912 0.09718222 0.09773325 0.09688165 0.10149029 0.10046337\n",
      " 0.10073889 0.09843456 0.09830933 0.09708203 0.09773325 0.10532248\n",
      " 0.10584847 0.11090795 0.10857858 0.0989856  0.09983719 0.10356919\n",
      " 0.10737633 0.10715091 0.10399499 0.10194114 0.10459612 0.11591735\n",
      " 0.11268629 0.11438948 0.11724483 0.11887289 0.12485911 0.12090169\n",
      " 0.11829681 0.10552286 0.10697558 0.10339386 0.10567314 0.10507201\n",
      " 0.09823419 0.09041954 0.09164684 0.0977082  0.10016281 0.10038823\n",
      " 0.09650595 0.0878397  0.09014402 0.08681277 0.08969317 0.08090169\n",
      " 0.08583594 0.08806512 0.09129618 0.09031935 0.09009393 0.08683782\n",
      " 0.085335   0.09247339 0.09517846 0.09946149 0.10499687 0.10624922\n",
      " 0.10680025 0.10482154 0.10469631 0.1063995  0.10522229 0.11453976\n",
      " 0.10760175 0.10549781 0.10815279 0.11183469 0.1105072  0.1113087\n",
      " 0.10920476 0.1101315  0.10289292 0.10276769 0.10807765 0.10810269\n",
      " 0.11060739 0.11684408 0.12781465 0.13452724 0.13570445 0.12432145\n",
      " 0.12873165 0.13206913 0.13452329 0.13639909 0.13794678 0.13932481\n",
      " 0.14061704 0.14186092 0.14307049 0.1442508  0.1454045  0.14653461\n",
      " 0.14764459 0.14873838 0.14981955 0.1508912 ]\n",
      "17 day output [[0.15195589]]\n",
      "18 day input [0.09718222 0.09773325 0.09688165 0.10149029 0.10046337 0.10073889\n",
      " 0.09843456 0.09830933 0.09708203 0.09773325 0.10532248 0.10584847\n",
      " 0.11090795 0.10857858 0.0989856  0.09983719 0.10356919 0.10737633\n",
      " 0.10715091 0.10399499 0.10194114 0.10459612 0.11591735 0.11268629\n",
      " 0.11438948 0.11724483 0.11887289 0.12485911 0.12090169 0.11829681\n",
      " 0.10552286 0.10697558 0.10339386 0.10567314 0.10507201 0.09823419\n",
      " 0.09041954 0.09164684 0.0977082  0.10016281 0.10038823 0.09650595\n",
      " 0.0878397  0.09014402 0.08681277 0.08969317 0.08090169 0.08583594\n",
      " 0.08806512 0.09129618 0.09031935 0.09009393 0.08683782 0.085335\n",
      " 0.09247339 0.09517846 0.09946149 0.10499687 0.10624922 0.10680025\n",
      " 0.10482154 0.10469631 0.1063995  0.10522229 0.11453976 0.10760175\n",
      " 0.10549781 0.10815279 0.11183469 0.1105072  0.1113087  0.10920476\n",
      " 0.1101315  0.10289292 0.10276769 0.10807765 0.10810269 0.11060739\n",
      " 0.11684408 0.12781465 0.13452724 0.13570445 0.12432145 0.12873165\n",
      " 0.13206913 0.13452329 0.13639909 0.13794678 0.13932481 0.14061704\n",
      " 0.14186092 0.14307049 0.1442508  0.1454045  0.14653461 0.14764459\n",
      " 0.14873838 0.14981955 0.1508912  0.15195589]\n",
      "18 day output [[0.15301548]]\n",
      "19 day input [0.09773325 0.09688165 0.10149029 0.10046337 0.10073889 0.09843456\n",
      " 0.09830933 0.09708203 0.09773325 0.10532248 0.10584847 0.11090795\n",
      " 0.10857858 0.0989856  0.09983719 0.10356919 0.10737633 0.10715091\n",
      " 0.10399499 0.10194114 0.10459612 0.11591735 0.11268629 0.11438948\n",
      " 0.11724483 0.11887289 0.12485911 0.12090169 0.11829681 0.10552286\n",
      " 0.10697558 0.10339386 0.10567314 0.10507201 0.09823419 0.09041954\n",
      " 0.09164684 0.0977082  0.10016281 0.10038823 0.09650595 0.0878397\n",
      " 0.09014402 0.08681277 0.08969317 0.08090169 0.08583594 0.08806512\n",
      " 0.09129618 0.09031935 0.09009393 0.08683782 0.085335   0.09247339\n",
      " 0.09517846 0.09946149 0.10499687 0.10624922 0.10680025 0.10482154\n",
      " 0.10469631 0.1063995  0.10522229 0.11453976 0.10760175 0.10549781\n",
      " 0.10815279 0.11183469 0.1105072  0.1113087  0.10920476 0.1101315\n",
      " 0.10289292 0.10276769 0.10807765 0.10810269 0.11060739 0.11684408\n",
      " 0.12781465 0.13452724 0.13570445 0.12432145 0.12873165 0.13206913\n",
      " 0.13452329 0.13639909 0.13794678 0.13932481 0.14061704 0.14186092\n",
      " 0.14307049 0.1442508  0.1454045  0.14653461 0.14764459 0.14873838\n"
     ]
    },
    {
     "name": "stdout",
     "output_type": "stream",
     "text": [
      " 0.14981955 0.1508912  0.15195589 0.15301548]\n",
      "19 day output [[0.15407133]]\n",
      "20 day input [0.09688165 0.10149029 0.10046337 0.10073889 0.09843456 0.09830933\n",
      " 0.09708203 0.09773325 0.10532248 0.10584847 0.11090795 0.10857858\n",
      " 0.0989856  0.09983719 0.10356919 0.10737633 0.10715091 0.10399499\n",
      " 0.10194114 0.10459612 0.11591735 0.11268629 0.11438948 0.11724483\n",
      " 0.11887289 0.12485911 0.12090169 0.11829681 0.10552286 0.10697558\n",
      " 0.10339386 0.10567314 0.10507201 0.09823419 0.09041954 0.09164684\n",
      " 0.0977082  0.10016281 0.10038823 0.09650595 0.0878397  0.09014402\n",
      " 0.08681277 0.08969317 0.08090169 0.08583594 0.08806512 0.09129618\n",
      " 0.09031935 0.09009393 0.08683782 0.085335   0.09247339 0.09517846\n",
      " 0.09946149 0.10499687 0.10624922 0.10680025 0.10482154 0.10469631\n",
      " 0.1063995  0.10522229 0.11453976 0.10760175 0.10549781 0.10815279\n",
      " 0.11183469 0.1105072  0.1113087  0.10920476 0.1101315  0.10289292\n",
      " 0.10276769 0.10807765 0.10810269 0.11060739 0.11684408 0.12781465\n",
      " 0.13452724 0.13570445 0.12432145 0.12873165 0.13206913 0.13452329\n",
      " 0.13639909 0.13794678 0.13932481 0.14061704 0.14186092 0.14307049\n",
      " 0.1442508  0.1454045  0.14653461 0.14764459 0.14873838 0.14981955\n",
      " 0.1508912  0.15195589 0.15301548 0.15407133]\n",
      "20 day output [[0.15512438]]\n",
      "21 day input [0.10149029 0.10046337 0.10073889 0.09843456 0.09830933 0.09708203\n",
      " 0.09773325 0.10532248 0.10584847 0.11090795 0.10857858 0.0989856\n",
      " 0.09983719 0.10356919 0.10737633 0.10715091 0.10399499 0.10194114\n",
      " 0.10459612 0.11591735 0.11268629 0.11438948 0.11724483 0.11887289\n",
      " 0.12485911 0.12090169 0.11829681 0.10552286 0.10697558 0.10339386\n",
      " 0.10567314 0.10507201 0.09823419 0.09041954 0.09164684 0.0977082\n",
      " 0.10016281 0.10038823 0.09650595 0.0878397  0.09014402 0.08681277\n",
      " 0.08969317 0.08090169 0.08583594 0.08806512 0.09129618 0.09031935\n",
      " 0.09009393 0.08683782 0.085335   0.09247339 0.09517846 0.09946149\n",
      " 0.10499687 0.10624922 0.10680025 0.10482154 0.10469631 0.1063995\n",
      " 0.10522229 0.11453976 0.10760175 0.10549781 0.10815279 0.11183469\n",
      " 0.1105072  0.1113087  0.10920476 0.1101315  0.10289292 0.10276769\n",
      " 0.10807765 0.10810269 0.11060739 0.11684408 0.12781465 0.13452724\n",
      " 0.13570445 0.12432145 0.12873165 0.13206913 0.13452329 0.13639909\n",
      " 0.13794678 0.13932481 0.14061704 0.14186092 0.14307049 0.1442508\n",
      " 0.1454045  0.14653461 0.14764459 0.14873838 0.14981955 0.1508912\n",
      " 0.15195589 0.15301548 0.15407133 0.15512438]\n",
      "21 day output [[0.15617506]]\n",
      "22 day input [0.10046337 0.10073889 0.09843456 0.09830933 0.09708203 0.09773325\n",
      " 0.10532248 0.10584847 0.11090795 0.10857858 0.0989856  0.09983719\n",
      " 0.10356919 0.10737633 0.10715091 0.10399499 0.10194114 0.10459612\n",
      " 0.11591735 0.11268629 0.11438948 0.11724483 0.11887289 0.12485911\n",
      " 0.12090169 0.11829681 0.10552286 0.10697558 0.10339386 0.10567314\n",
      " 0.10507201 0.09823419 0.09041954 0.09164684 0.0977082  0.10016281\n",
      " 0.10038823 0.09650595 0.0878397  0.09014402 0.08681277 0.08969317\n",
      " 0.08090169 0.08583594 0.08806512 0.09129618 0.09031935 0.09009393\n",
      " 0.08683782 0.085335   0.09247339 0.09517846 0.09946149 0.10499687\n",
      " 0.10624922 0.10680025 0.10482154 0.10469631 0.1063995  0.10522229\n",
      " 0.11453976 0.10760175 0.10549781 0.10815279 0.11183469 0.1105072\n",
      " 0.1113087  0.10920476 0.1101315  0.10289292 0.10276769 0.10807765\n",
      " 0.10810269 0.11060739 0.11684408 0.12781465 0.13452724 0.13570445\n",
      " 0.12432145 0.12873165 0.13206913 0.13452329 0.13639909 0.13794678\n",
      " 0.13932481 0.14061704 0.14186092 0.14307049 0.1442508  0.1454045\n",
      " 0.14653461 0.14764459 0.14873838 0.14981955 0.1508912  0.15195589\n",
      " 0.15301548 0.15407133 0.15512438 0.15617506]\n",
      "22 day output [[0.15722369]]\n",
      "23 day input [0.10073889 0.09843456 0.09830933 0.09708203 0.09773325 0.10532248\n",
      " 0.10584847 0.11090795 0.10857858 0.0989856  0.09983719 0.10356919\n",
      " 0.10737633 0.10715091 0.10399499 0.10194114 0.10459612 0.11591735\n",
      " 0.11268629 0.11438948 0.11724483 0.11887289 0.12485911 0.12090169\n",
      " 0.11829681 0.10552286 0.10697558 0.10339386 0.10567314 0.10507201\n",
      " 0.09823419 0.09041954 0.09164684 0.0977082  0.10016281 0.10038823\n",
      " 0.09650595 0.0878397  0.09014402 0.08681277 0.08969317 0.08090169\n",
      " 0.08583594 0.08806512 0.09129618 0.09031935 0.09009393 0.08683782\n",
      " 0.085335   0.09247339 0.09517846 0.09946149 0.10499687 0.10624922\n",
      " 0.10680025 0.10482154 0.10469631 0.1063995  0.10522229 0.11453976\n",
      " 0.10760175 0.10549781 0.10815279 0.11183469 0.1105072  0.1113087\n",
      " 0.10920476 0.1101315  0.10289292 0.10276769 0.10807765 0.10810269\n",
      " 0.11060739 0.11684408 0.12781465 0.13452724 0.13570445 0.12432145\n",
      " 0.12873165 0.13206913 0.13452329 0.13639909 0.13794678 0.13932481\n",
      " 0.14061704 0.14186092 0.14307049 0.1442508  0.1454045  0.14653461\n",
      " 0.14764459 0.14873838 0.14981955 0.1508912  0.15195589 0.15301548\n",
      " 0.15407133 0.15512438 0.15617506 0.15722369]\n",
      "23 day output [[0.15827028]]\n",
      "24 day input [0.09843456 0.09830933 0.09708203 0.09773325 0.10532248 0.10584847\n",
      " 0.11090795 0.10857858 0.0989856  0.09983719 0.10356919 0.10737633\n",
      " 0.10715091 0.10399499 0.10194114 0.10459612 0.11591735 0.11268629\n",
      " 0.11438948 0.11724483 0.11887289 0.12485911 0.12090169 0.11829681\n",
      " 0.10552286 0.10697558 0.10339386 0.10567314 0.10507201 0.09823419\n",
      " 0.09041954 0.09164684 0.0977082  0.10016281 0.10038823 0.09650595\n",
      " 0.0878397  0.09014402 0.08681277 0.08969317 0.08090169 0.08583594\n",
      " 0.08806512 0.09129618 0.09031935 0.09009393 0.08683782 0.085335\n",
      " 0.09247339 0.09517846 0.09946149 0.10499687 0.10624922 0.10680025\n",
      " 0.10482154 0.10469631 0.1063995  0.10522229 0.11453976 0.10760175\n",
      " 0.10549781 0.10815279 0.11183469 0.1105072  0.1113087  0.10920476\n",
      " 0.1101315  0.10289292 0.10276769 0.10807765 0.10810269 0.11060739\n",
      " 0.11684408 0.12781465 0.13452724 0.13570445 0.12432145 0.12873165\n",
      " 0.13206913 0.13452329 0.13639909 0.13794678 0.13932481 0.14061704\n",
      " 0.14186092 0.14307049 0.1442508  0.1454045  0.14653461 0.14764459\n",
      " 0.14873838 0.14981955 0.1508912  0.15195589 0.15301548 0.15407133\n",
      " 0.15512438 0.15617506 0.15722369 0.15827028]\n",
      "24 day output [[0.15931472]]\n",
      "25 day input [0.09830933 0.09708203 0.09773325 0.10532248 0.10584847 0.11090795\n",
      " 0.10857858 0.0989856  0.09983719 0.10356919 0.10737633 0.10715091\n",
      " 0.10399499 0.10194114 0.10459612 0.11591735 0.11268629 0.11438948\n",
      " 0.11724483 0.11887289 0.12485911 0.12090169 0.11829681 0.10552286\n",
      " 0.10697558 0.10339386 0.10567314 0.10507201 0.09823419 0.09041954\n",
      " 0.09164684 0.0977082  0.10016281 0.10038823 0.09650595 0.0878397\n",
      " 0.09014402 0.08681277 0.08969317 0.08090169 0.08583594 0.08806512\n",
      " 0.09129618 0.09031935 0.09009393 0.08683782 0.085335   0.09247339\n",
      " 0.09517846 0.09946149 0.10499687 0.10624922 0.10680025 0.10482154\n",
      " 0.10469631 0.1063995  0.10522229 0.11453976 0.10760175 0.10549781\n",
      " 0.10815279 0.11183469 0.1105072  0.1113087  0.10920476 0.1101315\n",
      " 0.10289292 0.10276769 0.10807765 0.10810269 0.11060739 0.11684408\n",
      " 0.12781465 0.13452724 0.13570445 0.12432145 0.12873165 0.13206913\n",
      " 0.13452329 0.13639909 0.13794678 0.13932481 0.14061704 0.14186092\n",
      " 0.14307049 0.1442508  0.1454045  0.14653461 0.14764459 0.14873838\n",
      " 0.14981955 0.1508912  0.15195589 0.15301548 0.15407133 0.15512438\n",
      " 0.15617506 0.15722369 0.15827028 0.15931472]\n",
      "25 day output [[0.16035685]]\n",
      "26 day input [0.09708203 0.09773325 0.10532248 0.10584847 0.11090795 0.10857858\n",
      " 0.0989856  0.09983719 0.10356919 0.10737633 0.10715091 0.10399499\n",
      " 0.10194114 0.10459612 0.11591735 0.11268629 0.11438948 0.11724483\n",
      " 0.11887289 0.12485911 0.12090169 0.11829681 0.10552286 0.10697558\n",
      " 0.10339386 0.10567314 0.10507201 0.09823419 0.09041954 0.09164684\n",
      " 0.0977082  0.10016281 0.10038823 0.09650595 0.0878397  0.09014402\n",
      " 0.08681277 0.08969317 0.08090169 0.08583594 0.08806512 0.09129618\n",
      " 0.09031935 0.09009393 0.08683782 0.085335   0.09247339 0.09517846\n",
      " 0.09946149 0.10499687 0.10624922 0.10680025 0.10482154 0.10469631\n",
      " 0.1063995  0.10522229 0.11453976 0.10760175 0.10549781 0.10815279\n",
      " 0.11183469 0.1105072  0.1113087  0.10920476 0.1101315  0.10289292\n",
      " 0.10276769 0.10807765 0.10810269 0.11060739 0.11684408 0.12781465\n",
      " 0.13452724 0.13570445 0.12432145 0.12873165 0.13206913 0.13452329\n",
      " 0.13639909 0.13794678 0.13932481 0.14061704 0.14186092 0.14307049\n",
      " 0.1442508  0.1454045  0.14653461 0.14764459 0.14873838 0.14981955\n",
      " 0.1508912  0.15195589 0.15301548 0.15407133 0.15512438 0.15617506\n",
      " 0.15722369 0.15827028 0.15931472 0.16035685]\n",
      "26 day output [[0.16139632]]\n",
      "27 day input [0.09773325 0.10532248 0.10584847 0.11090795 0.10857858 0.0989856\n",
      " 0.09983719 0.10356919 0.10737633 0.10715091 0.10399499 0.10194114\n",
      " 0.10459612 0.11591735 0.11268629 0.11438948 0.11724483 0.11887289\n",
      " 0.12485911 0.12090169 0.11829681 0.10552286 0.10697558 0.10339386\n",
      " 0.10567314 0.10507201 0.09823419 0.09041954 0.09164684 0.0977082\n",
      " 0.10016281 0.10038823 0.09650595 0.0878397  0.09014402 0.08681277\n",
      " 0.08969317 0.08090169 0.08583594 0.08806512 0.09129618 0.09031935\n",
      " 0.09009393 0.08683782 0.085335   0.09247339 0.09517846 0.09946149\n",
      " 0.10499687 0.10624922 0.10680025 0.10482154 0.10469631 0.1063995\n",
      " 0.10522229 0.11453976 0.10760175 0.10549781 0.10815279 0.11183469\n",
      " 0.1105072  0.1113087  0.10920476 0.1101315  0.10289292 0.10276769\n",
      " 0.10807765 0.10810269 0.11060739 0.11684408 0.12781465 0.13452724\n",
      " 0.13570445 0.12432145 0.12873165 0.13206913 0.13452329 0.13639909\n",
      " 0.13794678 0.13932481 0.14061704 0.14186092 0.14307049 0.1442508\n",
      " 0.1454045  0.14653461 0.14764459 0.14873838 0.14981955 0.1508912\n",
      " 0.15195589 0.15301548 0.15407133 0.15512438 0.15617506 0.15722369\n",
      " 0.15827028 0.15931472 0.16035685 0.16139632]\n"
     ]
    },
    {
     "name": "stdout",
     "output_type": "stream",
     "text": [
      "27 day output [[0.1624329]]\n",
      "28 day input [0.10532248 0.10584847 0.11090795 0.10857858 0.0989856  0.09983719\n",
      " 0.10356919 0.10737633 0.10715091 0.10399499 0.10194114 0.10459612\n",
      " 0.11591735 0.11268629 0.11438948 0.11724483 0.11887289 0.12485911\n",
      " 0.12090169 0.11829681 0.10552286 0.10697558 0.10339386 0.10567314\n",
      " 0.10507201 0.09823419 0.09041954 0.09164684 0.0977082  0.10016281\n",
      " 0.10038823 0.09650595 0.0878397  0.09014402 0.08681277 0.08969317\n",
      " 0.08090169 0.08583594 0.08806512 0.09129618 0.09031935 0.09009393\n",
      " 0.08683782 0.085335   0.09247339 0.09517846 0.09946149 0.10499687\n",
      " 0.10624922 0.10680025 0.10482154 0.10469631 0.1063995  0.10522229\n",
      " 0.11453976 0.10760175 0.10549781 0.10815279 0.11183469 0.1105072\n",
      " 0.1113087  0.10920476 0.1101315  0.10289292 0.10276769 0.10807765\n",
      " 0.10810269 0.11060739 0.11684408 0.12781465 0.13452724 0.13570445\n",
      " 0.12432145 0.12873165 0.13206913 0.13452329 0.13639909 0.13794678\n",
      " 0.13932481 0.14061704 0.14186092 0.14307049 0.1442508  0.1454045\n",
      " 0.14653461 0.14764459 0.14873838 0.14981955 0.1508912  0.15195589\n",
      " 0.15301548 0.15407133 0.15512438 0.15617506 0.15722369 0.15827028\n",
      " 0.15931472 0.16035685 0.16139632 0.16243289]\n",
      "28 day output [[0.16346632]]\n",
      "29 day input [0.10584847 0.11090795 0.10857858 0.0989856  0.09983719 0.10356919\n",
      " 0.10737633 0.10715091 0.10399499 0.10194114 0.10459612 0.11591735\n",
      " 0.11268629 0.11438948 0.11724483 0.11887289 0.12485911 0.12090169\n",
      " 0.11829681 0.10552286 0.10697558 0.10339386 0.10567314 0.10507201\n",
      " 0.09823419 0.09041954 0.09164684 0.0977082  0.10016281 0.10038823\n",
      " 0.09650595 0.0878397  0.09014402 0.08681277 0.08969317 0.08090169\n",
      " 0.08583594 0.08806512 0.09129618 0.09031935 0.09009393 0.08683782\n",
      " 0.085335   0.09247339 0.09517846 0.09946149 0.10499687 0.10624922\n",
      " 0.10680025 0.10482154 0.10469631 0.1063995  0.10522229 0.11453976\n",
      " 0.10760175 0.10549781 0.10815279 0.11183469 0.1105072  0.1113087\n",
      " 0.10920476 0.1101315  0.10289292 0.10276769 0.10807765 0.10810269\n",
      " 0.11060739 0.11684408 0.12781465 0.13452724 0.13570445 0.12432145\n",
      " 0.12873165 0.13206913 0.13452329 0.13639909 0.13794678 0.13932481\n",
      " 0.14061704 0.14186092 0.14307049 0.1442508  0.1454045  0.14653461\n",
      " 0.14764459 0.14873838 0.14981955 0.1508912  0.15195589 0.15301548\n",
      " 0.15407133 0.15512438 0.15617506 0.15722369 0.15827028 0.15931472\n",
      " 0.16035685 0.16139632 0.16243289 0.16346632]\n",
      "29 day output [[0.16449621]]\n",
      "[[0.12432145327329636], [0.1287316530942917], [0.13206912577152252], [0.13452328741550446], [0.13639909029006958], [0.13794678449630737], [0.13932481408119202], [0.14061704277992249], [0.14186091721057892], [0.14307048916816711], [0.1442507952451706], [0.14540450274944305], [0.14653460681438446], [0.14764459431171417], [0.14873838424682617], [0.14981955289840698], [0.15089119970798492], [0.15195588767528534], [0.15301547944545746], [0.15407133102416992], [0.15512438118457794], [0.15617506206035614], [0.1572236865758896], [0.15827028453350067], [0.15931472182273865], [0.16035684943199158], [0.161396324634552], [0.16243289411067963], [0.16346631944179535], [0.16449621319770813]]\n"
     ]
    }
   ],
   "source": [
    "#  demonstrate prediction for next 10 days\n",
    "from numpy import array\n",
    "\n",
    "lst_output=[]\n",
    "n_steps=100\n",
    "i=0\n",
    "while(i<30):\n",
    "    \n",
    "    if(len(temp_input)>100):\n",
    "        #print(temp_input)\n",
    "        x_input=np.array(temp_input[1:])\n",
    "        print(\"{} day input {}\".format(i,x_input))\n",
    "        x_input=x_input.reshape(1,-1)\n",
    "        x_input = x_input.reshape((1, n_steps, 1))\n",
    "        #print(x_input)\n",
    "        yhat = model.predict(x_input, verbose=0)\n",
    "        print(\"{} day output {}\".format(i,yhat))\n",
    "        temp_input.extend(yhat[0].tolist())\n",
    "        temp_input=temp_input[1:]\n",
    "        #print(temp_input)\n",
    "        lst_output.extend(yhat.tolist())\n",
    "        i=i+1\n",
    "    else:\n",
    "        x_input = x_input.reshape((1, n_steps,1))\n",
    "        yhat = model.predict(x_input, verbose=0)\n",
    "        print(yhat[0])\n",
    "        temp_input.extend(yhat[0].tolist())\n",
    "        print(len(temp_input))\n",
    "        lst_output.extend(yhat.tolist())\n",
    "        i=i+1\n",
    "    \n",
    "\n",
    "print(lst_output)"
   ]
  },
  {
   "cell_type": "code",
   "execution_count": 113,
   "id": "6f124006",
   "metadata": {},
   "outputs": [],
   "source": [
    "day_new=np.arange(1,101)\n",
    "day_pred=np.arange(101,131)"
   ]
  },
  {
   "cell_type": "code",
   "execution_count": 114,
   "id": "1b379f53",
   "metadata": {},
   "outputs": [
    {
     "data": {
      "text/plain": [
       "1257"
      ]
     },
     "execution_count": 114,
     "metadata": {},
     "output_type": "execute_result"
    }
   ],
   "source": [
    "len(df1)"
   ]
  },
  {
   "cell_type": "code",
   "execution_count": 115,
   "id": "aa9dad92",
   "metadata": {},
   "outputs": [
    {
     "data": {
      "text/plain": [
       "[<matplotlib.lines.Line2D at 0x1da72aaed90>]"
      ]
     },
     "execution_count": 115,
     "metadata": {},
     "output_type": "execute_result"
    },
    {
     "data": {
      "image/png": "[encoded data removed]",
      "text/plain": [
       "<Figure size 432x288 with 1 Axes>"
      ]
     },
     "metadata": {
      "needs_background": "light"
     },
     "output_type": "display_data"
    }
   ],
   "source": [
    "plt.plot(day_new,scaler.inverse_transform(df1[1157:]))\n",
    "plt.plot(day_pred,scaler.inverse_transform(lst_output))"
   ]
  },
  {
   "cell_type": "code",
   "execution_count": 116,
   "id": "284b86a1",
   "metadata": {},
   "outputs": [
    {
     "data": {
      "text/plain": [
       "[<matplotlib.lines.Line2D at 0x1da72a75be0>]"
      ]
     },
     "execution_count": 116,
     "metadata": {},
     "output_type": "execute_result"
    },
    {
     "data": {
      "image/png": "[encoded data removed]",
      "text/plain": [
       "<Figure size 432x288 with 1 Axes>"
      ]
     },
     "metadata": {
      "needs_background": "light"
     },
     "output_type": "display_data"
    }
   ],
   "source": [
    "df3=df1.tolist()\n",
    "df3.extend(lst_output)\n",
    "plt.plot(df3[1200:])"
   ]
  },
  {
   "cell_type": "code",
   "execution_count": 117,
   "id": "a2478336",
   "metadata": {},
   "outputs": [],
   "source": [
    "df3=scaler.inverse_transform(df3).tolist()"
   ]
  },
  {
   "cell_type": "code",
   "execution_count": 118,
   "id": "bc504d8c",
   "metadata": {},
   "outputs": [
    {
     "data": {
      "text/plain": [
       "[<matplotlib.lines.Line2D at 0x1da72a27520>]"
      ]
     },
     "execution_count": 118,
     "metadata": {},
     "output_type": "execute_result"
    },
    {
     "data": {
      "image/png": "[encoded data removed]",
      "text/plain": [
       "<Figure size 432x288 with 1 Axes>"
      ]
     },
     "metadata": {
      "needs_background": "light"
     },
     "output_type": "display_data"
    }
   ],
   "source": [
    "plt.plot(df3)"
   ]
  }
 ],
 "metadata": {
  "kernelspec": {
   "display_name": "Python 3",
   "language": "python",
   "name": "python3"
  },
  "language_info": {
   "codemirror_mode": {
    "name": "ipython",
    "version": 3
   },
   "file_extension": ".py",
   "mimetype": "text/x-python",
   "name": "python",
   "nbconvert_exporter": "python",
   "pygments_lexer": "ipython3",
   "version": "3.8.8"
  }
 },
 "nbformat": 4,
 "nbformat_minor": 5
}
